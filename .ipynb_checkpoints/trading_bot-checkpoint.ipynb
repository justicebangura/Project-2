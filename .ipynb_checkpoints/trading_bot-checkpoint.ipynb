{
 "cells": [
  {
   "cell_type": "markdown",
   "id": "bda40e10-9896-449f-b5b9-eee6fb455702",
   "metadata": {
    "tags": []
   },
   "source": [
    "# The Ultimate Algo Trader (Neurobot 1.0)"
   ]
  },
  {
   "cell_type": "markdown",
   "id": "0b710c11-2fcd-4a6d-9501-5883c1b813fe",
   "metadata": {},
   "source": [
    "### Imports and dependecies \n"
   ]
  },
  {
   "cell_type": "code",
   "execution_count": null,
   "id": "403e816f-973f-4988-8926-79052d7a0a31",
   "metadata": {},
   "outputs": [],
   "source": []
  },
  {
   "cell_type": "markdown",
   "id": "1fbe2c96-50da-4e64-9e25-497a65d15637",
   "metadata": {},
   "source": [
    "### Data Processing and collection"
   ]
  },
  {
   "cell_type": "code",
   "execution_count": null,
   "id": "d3bd60e7-ee10-442f-9977-5d97915f0342",
   "metadata": {},
   "outputs": [],
   "source": []
  },
  {
   "cell_type": "markdown",
   "id": "1e2a7810-a4bb-4a6e-8ba3-f775b5a419d9",
   "metadata": {},
   "source": [
    "### Feauture Engineering - Time series Analysis"
   ]
  },
  {
   "cell_type": "code",
   "execution_count": null,
   "id": "ed5caf06-f26e-495a-8263-2f4c516d3d82",
   "metadata": {},
   "outputs": [],
   "source": []
  },
  {
   "cell_type": "markdown",
   "id": "6f9f9e01-f1a8-4266-b541-d1b8975d6435",
   "metadata": {},
   "source": [
    "### Algo trading strategies - logic to comapre or combine trading strategy such as Daily returns lag, Anual returns, SMA, Exponential\n"
   ]
  },
  {
   "cell_type": "code",
   "execution_count": null,
   "id": "893745c5-ac6e-4eb6-9759-c048e67d371a",
   "metadata": {},
   "outputs": [],
   "source": []
  },
  {
   "cell_type": "markdown",
   "id": "9b59e277-959d-43e9-8f57-dd231418c691",
   "metadata": {},
   "source": [
    "### Machine Learning (LSTM ) + other model logreg or SVM - Logic that compares which model "
   ]
  },
  {
   "cell_type": "code",
   "execution_count": null,
   "id": "563710d6-59e0-4215-b6fb-1859e574a6c0",
   "metadata": {},
   "outputs": [],
   "source": []
  },
  {
   "cell_type": "markdown",
   "id": "d54d21f8-3020-4039-a9bd-ae16bea85402",
   "metadata": {},
   "source": [
    "### Backtesting - Model and strategy tuning logic to increase profitability"
   ]
  },
  {
   "cell_type": "code",
   "execution_count": null,
   "id": "39e13f0c-0bcc-4902-952b-7dc53ae5aa19",
   "metadata": {},
   "outputs": [],
   "source": []
  },
  {
   "cell_type": "markdown",
   "id": "9d9e7932-68e4-43cb-b564-ddc4ab14310e",
   "metadata": {},
   "source": [
    "### Fundamental Analysis (Predictions and Plotting) "
   ]
  },
  {
   "cell_type": "code",
   "execution_count": null,
   "id": "770803f1-f789-4560-b729-7538e0c6e616",
   "metadata": {},
   "outputs": [],
   "source": []
  },
  {
   "cell_type": "markdown",
   "id": "ef80015c-8430-474f-961d-d4b6b90c998f",
   "metadata": {
    "tags": []
   },
   "source": [
    "### Risk management and stop loss logic "
   ]
  },
  {
   "cell_type": "code",
   "execution_count": null,
   "id": "a60bc263-1624-4da6-8f54-5d3c4de7e6be",
   "metadata": {},
   "outputs": [],
   "source": []
  },
  {
   "cell_type": "markdown",
   "id": "2b9a1010-78f9-4950-9563-169cbee29da5",
   "metadata": {
    "tags": []
   },
   "source": [
    "## Logic to place paper trade on Alpaca(Optional)"
   ]
  },
  {
   "cell_type": "code",
   "execution_count": null,
   "id": "9dc804e0-ac7f-4b64-873a-ac7923c7ae5b",
   "metadata": {},
   "outputs": [],
   "source": []
  }
 ],
 "metadata": {
  "kernelspec": {
   "display_name": "Python 3 (ipykernel)",
   "language": "python",
   "name": "python3"
  },
  "language_info": {
   "codemirror_mode": {
    "name": "ipython",
    "version": 3
   },
   "file_extension": ".py",
   "mimetype": "text/x-python",
   "name": "python",
   "nbconvert_exporter": "python",
   "pygments_lexer": "ipython3",
   "version": "3.10.13"
  }
 },
 "nbformat": 4,
 "nbformat_minor": 5
}
