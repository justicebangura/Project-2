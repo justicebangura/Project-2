{
 "cells": [
  {
   "cell_type": "code",
   "execution_count": null,
   "id": "d17276d2-2475-41d9-a9da-679d7e45a1d6",
   "metadata": {},
   "outputs": [],
   "source": [
    "def max_drawdown (df, window=252):\n",
    "    roll_max = df['close'].rolling(window, min_periods=1).max()\n",
    "    daily_drawdown = df['close']/roll_max - 1.0\n",
    "    max_daily_drawdown = daily_drawdown.rolling(window, min_periods=1).min()\n",
    "    \n",
    "    return max_daily_drawdown"
   ]
  },
  {
   "cell_type": "code",
   "execution_count": null,
   "id": "9f7f8cde-9bfa-47d0-a572-c8d374f8845b",
   "metadata": {},
   "outputs": [],
   "source": [
    "close_df = stock_data['NVDA']['close']\n",
    "close = pd.DataFrame(close_df)\n",
    "close.head()"
   ]
  },
  {
   "cell_type": "code",
   "execution_count": null,
   "id": "2a153505-e929-4bc2-9c49-e8447d556e32",
   "metadata": {},
   "outputs": [],
   "source": [
    "drawndown_data = (max_drawdown(close, window=252))\n",
    "drawndown_data"
   ]
  },
  {
   "cell_type": "code",
   "execution_count": null,
   "id": "e72b61d2-929c-47fc-a005-3d9c563bbbe5",
   "metadata": {},
   "outputs": [],
   "source": [
    "df = pd.DataFrame(drawndown_data)\n",
    "df.plot()"
   ]
  },
  {
   "cell_type": "code",
   "execution_count": 3,
   "id": "999af5d4-3bd5-4d36-a8b0-96cada1b5152",
   "metadata": {
    "tags": []
   },
   "outputs": [
    {
     "ename": "ModuleNotFoundError",
     "evalue": "No module named 'stock_data'",
     "output_type": "error",
     "traceback": [
      "\u001b[0;31m---------------------------------------------------------------------------\u001b[0m",
      "\u001b[0;31mModuleNotFoundError\u001b[0m                       Traceback (most recent call last)",
      "Cell \u001b[0;32mIn[3], line 20\u001b[0m\n\u001b[1;32m     16\u001b[0m \u001b[38;5;28;01mfrom\u001b[39;00m \u001b[38;5;21;01msklearn\u001b[39;00m\u001b[38;5;21;01m.\u001b[39;00m\u001b[38;5;21;01mmetrics\u001b[39;00m \u001b[38;5;28;01mimport\u001b[39;00m mean_squared_error\n\u001b[1;32m     19\u001b[0m \u001b[38;5;66;03m# Initialize python files and import functions\u001b[39;00m\n\u001b[0;32m---> 20\u001b[0m \u001b[38;5;28;01mimport\u001b[39;00m \u001b[38;5;21;01mstock_data\u001b[39;00m \u001b[38;5;28;01mas\u001b[39;00m \u001b[38;5;21;01mdata\u001b[39;00m\n\u001b[1;32m     21\u001b[0m \u001b[38;5;28;01mimport\u001b[39;00m \u001b[38;5;21;01malgo_strategy\u001b[39;00m \u001b[38;5;28;01mas\u001b[39;00m \u001b[38;5;21;01mstrategy\u001b[39;00m\n\u001b[1;32m     22\u001b[0m \u001b[38;5;28;01mimport\u001b[39;00m \u001b[38;5;21;01mnn_models\u001b[39;00m \u001b[38;5;28;01mas\u001b[39;00m \u001b[38;5;21;01mmodel\u001b[39;00m\n",
      "\u001b[0;31mModuleNotFoundError\u001b[0m: No module named 'stock_data'"
     ]
    }
   ],
   "source": [
    "import os\n",
    "import numpy as np\n",
    "import random\n",
    "import datetime\n",
    "import seaborn as sns\n",
    "import pandas as pd\n",
    "import yfinance as yf\n",
    "import hvplot.pandas\n",
    "import matplotlib.pyplot as plt\n",
    "import alpaca_trade_api as tradeapi\n",
    "from dotenv import load_dotenv\n",
    "from scipy.interpolate import interp1d\n",
    "from alpaca_trade_api.rest import REST, TimeFrame\n",
    "from sklearn.model_selection import cross_val_score\n",
    "from sklearn.metrics import accuracy_score, precision_score, recall_score\n",
    "from sklearn.metrics import mean_squared_error\n",
    "\n",
    "\n",
    "# Initialize python files and import functions\n",
    "import stock_data as data\n",
    "import algo_strategy as strategy\n",
    "import nn_models as model\n",
    "import backtesting as backtest\n",
    "\n",
    "import warnings\n",
    "warnings.filterwarnings('ignore')"
   ]
  },
  {
   "cell_type": "code",
   "execution_count": null,
   "id": "118e1a28-7d53-47ed-9801-1cb5d3dda8b8",
   "metadata": {},
   "outputs": [],
   "source": [
    "def fetch_stock_data(start_date, end_date, tickers, timeframe='1Day'):\n",
    "    \n",
    "    alpaca_api_key = os.getenv(\"ALPACA_API_KEY\")\n",
    "    alpaca_secret_key = os.getenv(\"ALPACA_SECRET_KEY\")\n",
    "    api = REST(alpaca_api_key, alpaca_secret_key, base_url='https://paper-api.alpaca.markets')\n",
    "    \n",
    "    # Set start and end dates\n",
    "    start_date_iso = pd.Timestamp(start_date, tz='America/New_York').isoformat()\n",
    "    end_date_iso = pd.Timestamp(end_date, tz='America/New_York').isoformat()\n",
    "    \n",
    "    # pull data from Api\n",
    "    df_ticker = api.get_bars(tickers, TimeFrame.Day, start=start_date_iso, end=end_date_iso).df\n",
    "    dfs = {}\n",
    "    \n",
    "    for ticker in tickers:\n",
    "        ticker_df = df_ticker.loc[df_ticker.symbol == ticker].drop('symbol', axis=1)\n",
    "        ticker_df = ticker_df[['open', 'close', 'high', 'volume']]\n",
    "        dfs[ticker] = ticker_df\n",
    "        \n",
    "    data = pd.concat(dfs.values(), axis=1, keys=tickers)\n",
    "    data.reset_index(inplace=True)\n",
    "    data.timestamp = data.timestamp.dt.date\n",
    "    data.set_index('timestamp', inplace=True)\n",
    "    data.index = pd.to_datetime(data.index)\n",
    "    \n",
    "    return data"
   ]
  },
  {
   "cell_type": "code",
   "execution_count": null,
   "id": "19b6cde2-e872-4d69-bfe1-a6b4fa8f301d",
   "metadata": {},
   "outputs": [],
   "source": [
    "peroid =5 \n",
    "df_stock['C'] = pd.Series(\n",
    "    data=[df_stock['close'].iloc[:period].mean()],\n",
    "    index=[df_stock['close'].index[period-1]],\n",
    ").append(\n",
    "    df['close'].iloc[period:]\n",
    ").ewm(\n",
    "    alpha=1.0 / period,\n",
    "    adjust=False,\n",
    ").mean()"
   ]
  },
  {
   "cell_type": "code",
   "execution_count": null,
   "id": "9d63c8f4-b60b-4514-93ab-54072bbc0dfa",
   "metadata": {},
   "outputs": [],
   "source": [
    "df_stock['WMA'] = pd.DataFrame(\n",
    "    data=[df_stock['close'].iloc[:short_window].mean()],\n",
    "    index=[df_stock['close'].index[short_window-1]],\n",
    ").append(\n",
    "    df['close'].iloc[short_window:]\n",
    ").ewm(\n",
    "    alpha=1.0 / period,\n",
    "    adjust=False,\n",
    ").mean()"
   ]
  },
  {
   "cell_type": "code",
   "execution_count": null,
   "id": "c384d086-390f-4719-ae29-1555ed888b3f",
   "metadata": {},
   "outputs": [],
   "source": [
    "def wwma(values, n):\n",
    "    \"\"\"\n",
    "     J. Welles Wilder's EMA \n",
    "    \"\"\"\n",
    "    return values.ewm(alpha=1/n, adjust=False).mean()\n",
    "\n",
    "def atr(df_stock, n=14):\n",
    "    data = df_stock.copy()\n",
    "    high = data['high']\n",
    "    low = data['low']\n",
    "    close = data['close']\n",
    "    data['tr0'] = abs(high - low)\n",
    "    data['tr1'] = abs(high - close.shift())\n",
    "    data['tr2'] = abs(low - close.shift())\n",
    "    tr = data[['tr0', 'tr1', 'tr2']].max(axis=1)\n",
    "    atr = df_stock['WMA'](tr, n)\n",
    "    return atr"
   ]
  }
 ],
 "metadata": {
  "kernelspec": {
   "display_name": "Python 3 (ipykernel)",
   "language": "python",
   "name": "python3"
  },
  "language_info": {
   "codemirror_mode": {
    "name": "ipython",
    "version": 3
   },
   "file_extension": ".py",
   "mimetype": "text/x-python",
   "name": "python",
   "nbconvert_exporter": "python",
   "pygments_lexer": "ipython3",
   "version": "3.11.5"
  }
 },
 "nbformat": 4,
 "nbformat_minor": 5
}
