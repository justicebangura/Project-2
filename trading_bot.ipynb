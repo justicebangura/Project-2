{
 "cells": [
  {
   "cell_type": "markdown",
   "id": "fc6cb2f3-dc4d-48f0-9028-1497b8a4c811",
   "metadata": {
    "tags": []
   },
   "source": [
    "# The Ultimate Algo Trader (Neurobot 1.0)"
   ]
  },
  {
   "cell_type": "markdown",
   "id": "7fa19c1e-f6ae-4b31-a8f2-25d7451006b6",
   "metadata": {},
   "source": [
    "## Introduction:\n",
    "This jupyter notebook contains code for developing and testing a dynamic algorithmic trader based on Python and Machine learning strategy."
   ]
  },
  {
   "cell_type": "markdown",
   "id": "c433b8e2-525a-43d9-98d9-62a8302ecc32",
   "metadata": {},
   "source": [
    "## Steps:\n",
    "1. **Data preperation**: Access historical market data via Alpaca API and preprocess it for analysis.\n",
    "2. **Strategy creation**: Code algorithmic trading strategy based on \"TBD\".\n",
    "3. **Backtesting-Optimization**: Backtest the strategy using historical data and fine-tune parameters for better performance.\n",
    "4. **Risk/Reward**: Calculate both the risk and the reward based on the entry price, position size, stop-loss and target price\n",
    "5. **live Trading(Optional)**: Implement the strategy for paper trading on Alpaca.\n",
    "\n",
    "**Tools and Libaries** \n",
    "- Python, Pandas, Numpy, \"TBD\""
   ]
  },
  {
   "cell_type": "markdown",
   "id": "0c1911c0-4920-456e-832c-08b3fb981035",
   "metadata": {},
   "source": [
    "#### Notes: \n",
    "- This notebook is for educational and experimental purposes only."
   ]
  },
  {
   "cell_type": "markdown",
   "id": "9d926644-3b5c-4ae6-838a-8be48b67a188",
   "metadata": {},
   "source": [
    "### Imports and Dependencies"
   ]
  },
  {
   "cell_type": "code",
   "execution_count": null,
   "id": "5401f047-42e2-4415-b714-23358181c181",
   "metadata": {
    "tags": []
   },
   "outputs": [],
   "source": [
    "import os\n",
    "import numpy as np\n",
    "import random\n",
    "import seaborn as sns\n",
    "import pandas as pd\n",
    "import yfinance as yf\n",
    "import hvplot.pandas\n",
    "import matplotlib.pyplot as plt\n",
    "import alpaca_trade_api as tradeapi\n",
    "from dotenv import load_dotenv\n",
    "from scipy.interpolate import interp1d\n",
    "from alpaca_trade_api.rest import REST, TimeFrame\n",
    "from sklearn.model_selection import cross_val_score\n",
    "from sklearn.metrics import accuracy_score, precision_score, recall_score\n",
    "from sklearn.metrics import mean_squared_error\n",
    "\n",
    "\n",
    "# Initialize python files and import functions\n",
    "import stock_data as data\n",
    "import algo_strategy as strategy\n",
    "import nn_models as model\n",
    "import backtesting as backtest\n",
    "\n",
    "import warnings\n",
    "warnings.filterwarnings('ignore')\n"
   ]
  },
  {
   "cell_type": "code",
   "execution_count": null,
   "id": "ee4354d3-1c76-41de-9637-1b5a4ed55dcd",
   "metadata": {
    "tags": []
   },
   "outputs": [],
   "source": [
    "load_dotenv()"
   ]
  },
  {
   "cell_type": "markdown",
   "id": "982b2c3a-facd-40c1-8cf0-9f4a5f097506",
   "metadata": {},
   "source": [
    "### Data Processing and collection"
   ]
  },
  {
   "cell_type": "code",
   "execution_count": null,
   "id": "0c808699-fd67-4fee-82d1-ee49b886b645",
   "metadata": {
    "tags": []
   },
   "outputs": [],
   "source": [
    "# Fetch list of tickers\n",
    "# Get select top picks based on monthly highest performing stocks in sp500 \n",
    "#ticker_list = data.get_clusters_from_sp500(sp500_url = os.getenv(\"SP500_URL\"))\n",
    "\n",
    "# fetch_stock_data based on top picks from ticker_list\n",
    "stock_data = data.fetch_stock_data('2018-01-12', '2024-03-14', tickers= ['NVDA'], timeframe='1Day')"
   ]
  },
  {
   "cell_type": "code",
   "execution_count": null,
   "id": "59ea2daf-2ce3-47ce-b3f7-6a43dd3cd577",
   "metadata": {
    "tags": []
   },
   "outputs": [],
   "source": [
    "# data cleaning and organization\n",
    "stock_df = stock_data #.rename(columns={'NVDA': 'NVDA close'})\n",
    "stock_df['Daily Returns'] = stock_df['NVDA']['close'].pct_change()\n",
    "stock_df = stock_df.dropna()\n",
    "stock_df"
   ]
  },
  {
   "cell_type": "markdown",
   "id": "8602c5a7-8885-4e99-baae-1e0302f969c3",
   "metadata": {},
   "source": [
    "#### Feauture Engineering - Time series Analysis"
   ]
  },
  {
   "cell_type": "code",
   "execution_count": null,
   "id": "42ca8159-340c-4f9e-91a8-f8ccf8651ef1",
   "metadata": {
    "tags": []
   },
   "outputs": [],
   "source": [
    "stock_df['Cumulative Returns'] = (1 + stock_df['Daily Returns']).cumprod()"
   ]
  },
  {
   "cell_type": "code",
   "execution_count": null,
   "id": "3e112592-40ff-4ef2-a240-33ade1414e66",
   "metadata": {
    "tags": []
   },
   "outputs": [],
   "source": [
    "stock_df['Daily Returns Lagged'] = stock_df['Daily Returns'].shift(-1)"
   ]
  },
  {
   "cell_type": "code",
   "execution_count": null,
   "id": "9321a2dc-48e0-40d6-86a4-8ec1c55b634a",
   "metadata": {
    "tags": []
   },
   "outputs": [],
   "source": [
    "# set window sizes based on strategy\n",
    "short_window = 5\n",
    "long_window = 100\n",
    "\n",
    "stock_df['SMA_Fast'] = stock_df['NVDA']['close'].rolling(window=short_window).mean()\n",
    "stock_df['SMA_Slow'] = stock_df['NVDA']['close'].rolling(window=long_window).mean()\n",
    "stock_df[\"EMA_Fast\"] = stock_df['NVDA'][\"close\"].ewm(span=short_window).mean()\n",
    "stock_df[\"EMA_Fast\"] = stock_df['NVDA'][\"close\"].ewm(span=long_window).mean()\n",
    "stock_df = stock_df.dropna()\n",
    "stock_df\n",
    "\n",
    "# later on -> trial different training windows using DateOffset()"
   ]
  },
  {
   "cell_type": "markdown",
   "id": "8955ed4c-da46-4ab8-bf3f-8326706301a6",
   "metadata": {},
   "source": [
    "### Algorithim Buy/Sell  Best signal selection"
   ]
  },
  {
   "cell_type": "code",
   "execution_count": null,
   "id": "75caddf9-4c0e-4864-b45a-c5a2c3825c87",
   "metadata": {
    "tags": []
   },
   "outputs": [],
   "source": [
    "# Initialize Signals \n",
    "signals = {\n",
    "    \"signal_one\": strategy.strategy_one(stock_data),\n",
    "    \"signal_two\": strategy.strategy_two(stock_data),\n",
    "    \"signal_three\": strategy.strategy_three(stock_data),\n",
    "    \"signal_four\": strategy.strategy_four(stock_data),\n",
    "    \"signal_five\": strategy.strategy_five(stock_data) }\n",
    "\n",
    "# Function for simple winning trading strategy \n",
    "def simple_winning(signals):\n",
    "    best_strategy = max(signals, key=signals.get)\n",
    "    winning_signal = signals[best_strategy]\n",
    "    return winning_signal\n",
    "\n",
    "# Function for strategy that combines signals using a majority vote\n",
    "def majority_vote(signals):\n",
    "    buy_signal = sum(1 for signal in signals.values() if signal == 1)    # \"Buy\"\n",
    "    sell_signal = sum(1 for signal in signals.values() if signal == -1)  # \"Sell\"\n",
    "    return 1 if buy_signal > sell_signal else -1 if sell_signal > buy_signal else 0  # \"Buy\", \"Sell\", or \"Hold\"\n",
    "\n",
    "# Add signals to stock_df\n",
    "stock_df['Majority_vote'] = majority_vote(signals)\n",
    "stock_df['Simple_winning'] = simple_winning_(signals)\n",
    "\n",
    "# Plot winning signal and hybrid\n"
   ]
  },
  {
   "cell_type": "markdown",
   "id": "e68277bd-9711-49eb-971d-0ae724e08337",
   "metadata": {},
   "source": [
    "### Machine Learning Best Model Selection"
   ]
  },
  {
   "cell_type": "code",
   "execution_count": null,
   "id": "238a71bd-c684-479f-a5f7-af13110a32fb",
   "metadata": {
    "tags": []
   },
   "outputs": [],
   "source": [
    "# Initialize Models\n",
    "models = {\n",
    "    \"model_one\": model.model_one(),\n",
    "    \"model_two\": model.model_two(),\n",
    "    \"model_three\": model.model_three(),\n",
    "    \"model_four\": model.model_four(),\n",
    "    \"model_five\": model.model_five() }\n",
    "\n",
    "def select_best_model(models, X_train, y_train):\n",
    "    # Define initial best score and best model\n",
    "    best_model_name = None\n",
    "    best_model = None\n",
    "    best_accuracy = 0.0\n",
    "    best_mse = float('inf')\n",
    "    all_scores = {}\n",
    "    all_mses = {}\n",
    "    \n",
    "    # Define the scoring metrics you want to use\n",
    "    scoring = ['accuracy', 'precision', 'recall', 'f1_score']\n",
    "    \n",
    "    # Train and evaluate each model using cross-validation\n",
    "    for name, model in models.items():\n",
    "       \n",
    "        metric_scores = {}\n",
    "        \n",
    "        # Evaluate model using cross-validation for each scoring metric\n",
    "        for metric in scoring:\n",
    "            scores = cross_val_score(model, X_train, y_train, cv=5, scoring=metric)\n",
    "            \n",
    "            metric_scores[metric] = scores\n",
    "            \n",
    "        # Calculate the mean scores\n",
    "        mean_scores = {metric: scores.mean() for metric, scores in metric_scores.items()}\n",
    "        mse_scores = -cross_val_score(model, X_train, y_train, cv=5, scoring='neg_mean_squared_error')\n",
    "        mean_mse = mse_scores.mean()\n",
    "        \n",
    "        # Store the scores for the current model\n",
    "        all_scores[name] = metric_scores\n",
    "        all_mses[name] = mse_scores\n",
    "        \n",
    "        # Update best model if current model performs better based on accuracy or MSE\n",
    "        if mean_mse < best_mse or (mean_mse == best_mse and mean_scores['accuracy'] > best_accuracy):\n",
    "            best_accuracy = mean_scores['accuracy']\n",
    "            best_mse = mean_mse\n",
    "            best_model_name = name\n",
    "            best_model = model\n",
    "    \n",
    "    return best_model_name, best_model, all_scores, all_mses\n",
    "\n",
    "best_model_name, best_model, all_scores, all_mses = select_best_model(models, X_train, y_train)\n"
   ]
  },
  {
   "cell_type": "markdown",
   "id": "58d8e77d-ec8b-40fd-b635-d171d51d3a1e",
   "metadata": {},
   "source": [
    "### Backtesting - Best Model and Best Strategy"
   ]
  },
  {
   "cell_type": "code",
   "execution_count": null,
   "id": "feaa2327-7b71-4a48-add0-a46e35d530f8",
   "metadata": {
    "tags": []
   },
   "outputs": [],
   "source": []
  },
  {
   "cell_type": "markdown",
   "id": "140285e9-7535-41d8-9ed2-623347072f1c",
   "metadata": {},
   "source": [
    "### Fundamental Analysis (Predictions and Plotting)"
   ]
  },
  {
   "cell_type": "code",
   "execution_count": null,
   "id": "7d008fa4-c069-4d9c-af14-732d352c19a4",
   "metadata": {},
   "outputs": [],
   "source": [
    " Import required libraries\n",
    "import pandas as pd\n",
    "import numpy as np\n",
    "import hvplot.pandas\n",
    "from pathlib import Path\n",
    "\n",
    "# Setting these options will allow for reviewing more of the DataFrames\n",
    "pd.set_option(\"display.max_rows\", 2000)\n",
    "pd.set_option(\"display.max_columns\", 2000)\n",
    "pd.set_option(\"display.width\", 1000)\n",
    "# Read in CSV file in from the resources folder into a Pandas DataFrame\n",
    "# Set the date as the DateTimeIndex\n",
    "NVDA = pd.read_csv(\n",
    "    Path(\"../Resources/META.csv\"),\n",
    "    parse_dates = True, \n",
    "    infer_datetime_format = True\n",
    ")\n",
    "\n",
    "# Review the DataFrame\n",
    "META.head()\n",
    "# Plot the DataFrame with hvplot[\"close\"].hvplot()\n",
    "META[\"Close\"].hvplot\n",
    "#COMPARE the SMA 50 plot line to an EMA50 plot line \n",
    "# Create a DataFrame with the index and Close column from the dataset\n",
    "signals_df = META.loc[:, [\"Close\"]].copy()\n",
    "\n",
    "# Set the short window and long windows\n",
    "short_window = 50\n",
    "\n",
    "# Create a short window SMA\n",
    "signals_df[\"SMA50\"] = signals_df[\"Close\"].rolling(window=short_window).mean()\n",
    "\n",
    "# Create a short window EMA\n",
    "signals_df[\"EMA50\"] = signals_df[\"Close\"].ewm(span=short_window).mean()\n",
    "\n",
    "# Review the DataFrame\n",
    "signals_df.iloc[45:55, :]\n",
    "#PLOT\n",
    "# Visualize close price for the investment\n",
    "security_close = signals_df[[\"Close\"]].hvplot(\n",
    "    line_color='Blue',\n",
    "    ylabel='Price in $',\n",
    "    width=1000,\n",
    "    height=400\n",
    ")\n",
    "\n",
    "# Visualize moving averages\n",
    "moving_avgs = signals_df[[\"SMA50\", \"EMA50\"]].hvplot(\n",
    "    ylabel='Price in $',\n",
    "    width=1000,\n",
    "    height=400\n",
    ")\n",
    "\n",
    "# Overlay plots\n",
    "sma_ema_plot = security_close * moving_avgs\n",
    "sma_ema_plot\n",
    "\n",
    "#CREATE A TRADING ALGO!!!!!!\n",
    "# Create a DataFrame with the index and Close column from the dataset\n",
    "ema_signals_df = META.loc[:, [\"Close\"]].copy()\n",
    "\n",
    "# Set the short window and long windows\n",
    "short_window = 50\n",
    "long_window = 100\n",
    "\n",
    "# Generate the short and long moving averages (50 and 100 days, respectively)\n",
    "ema_signals_df[\"EMA50\"] = signals_df[\"Close\"].ewm(span=short_window).mean()\n",
    "ema_signals_df[\"EMA100\"] = signals_df[\"Close\"].ewm(span=long_window).mean()\n",
    "\n",
    "# Review the DataFrame\n",
    "ema_signals_df.head()\n",
    "# Set the Signal column\n",
    "ema_signals_df[\"Signal\"] = 0.0\n",
    "\n",
    "# Generate the trading signal 1 or 0,\n",
    "# where 1 is when the EMA50 is greater than (or crosses over) the EMA100\n",
    "# where 0 is when the EMA50 is under the EMA100\n",
    "ema_signals_df[\"Signal\"][short_window:] = np.where(\n",
    "    ema_signals_df[\"EMA50\"][short_window:] > ema_signals_df[\"EMA100\"][short_window:], 1.0, 0.0\n",
    ")\n",
    "\n",
    "# Calculate the points in time at which a position should be taken, 1 or -1\n",
    "ema_signals_df[\"Entry/Exit\"] = ema_signals_df[\"Signal\"].diff()\n",
    "\n",
    "# Review the DataFrame\n",
    "ema_signals_df.head()\n",
    "#PLOT!!!!!!\n",
    "# Visualize entry position relative to close price\n",
    "entry = ema_signals_df[ema_signals_df[\"Entry/Exit\"] == 1.0][\"Close\"].hvplot.scatter(\n",
    "    color='Blue',\n",
    "    marker='^',\n",
    "    size=200,\n",
    "    legend=False,\n",
    "    ylabel='Price in $',\n",
    "    xlabel= 'date',\n",
    "    width=1000,\n",
    "    height=400\n",
    ")\n",
    "\n",
    "# Visualize exit position relative to close price\n",
    "exit = ema_signals_df[ema_signals_df[\"Entry/Exit\"] == -1.0][\"Close\"].hvplot.scatter(\n",
    "    color='Green',\n",
    "    marker='v',\n",
    "    size=200,\n",
    "    legend=False,\n",
    "    ylabel='Price in $',\n",
    "    width=1000,\n",
    "    height=400\n",
    ")\n",
    "\n",
    "# Visualize close price for the investment\n",
    "security_close = ema_signals_df[[\"Close\"]].hvplot(\n",
    "    line_color='Blue',\n",
    "    ylabel='Price in $',\n",
    "    width=1000,\n",
    "    height=400\n",
    ")\n",
    "\n",
    "# Visualize moving averages\n",
    "moving_avgs = ema_signals_df[[\"EMA50\", \"EMA100\"]].hvplot(\n",
    "    ylabel='Price in $',\n",
    "    width=1000,\n",
    "    height=400\n",
    ")\n",
    "\n",
    "# Overlay plots\n",
    "entry_exit_plot = security_close * moving_avgs * entry * exit\n",
    "entry_exit_plot\n",
    "\n",
    "#INCORPORATE THE FINTA PYTHON LIBRARY into the DMAC trading ALGORITHM \n",
    "# Import the finta library\n",
    "from finta import TA\n",
    "# Read in CSV file in from the resources folder into a Pandas DataFrame\n",
    "# Set the date as the DateTimeIndex\n",
    "NVDA_df= pd.read_csv(\n",
    "    Path(\"../Resources/META.csv\"),\n",
    "    \n",
    "    parse_dates = True, \n",
    "    infer_datetime_format = True\n",
    ")\n",
    "\n",
    "# Review the DataFrame\n",
    "META_df.head()\n",
    "#Generate the EMA Technical Indicator using FinTA\n",
    "# Set the short window and long windows\n",
    "short_window = 50\n",
    "long_window = 100\n",
    "\n",
    "# Add the EMA technical indicators for the short and long windows\n",
    "META_df[\"Short\"] = TA.EMA(NVDA_df, short_window)\n",
    "META_df[\"Long\"] = TA.EMA(NVDA_df, long_window)\n",
    "\n",
    "# Review the DataFrame\n",
    "META.iloc[45:105, :]\n",
    "# Set the Signal column\n",
    "META_df[\"Signal\"] = 0.0\n",
    "\n",
    "# Generate the trading signal 1 or 0,\n",
    "# where 1 is when the Short window is greater than (or crosses over) the Long Window\n",
    "# where 0 is when the Short window is under the Long window\n",
    "META_df[\"Signal\"][short_window:] = np.where(\n",
    "    META_df[\"Short\"][short_window:] > NVDA_df[\"Long\"][short_window:], 1.0, 0.0\n",
    ")\n",
    "\n",
    "# Calculate the points in time at which a position should be taken, 1 or -1\n",
    "META_df[\"Entry/Exit\"] = META_df[\"Signal\"].diff()\n",
    "\n",
    "# Review the DataFrame\n",
    "META_df.iloc[95:105, :]\n",
    "# Visualize entry position relative to close price\n",
    "entry = META_df[META_df[\"Entry/Exit\"] == 1.0][\"Close\"].hvplot.scatter(\n",
    "    color=\"purple\",\n",
    "    marker=\"^\",\n",
    "    size=200,\n",
    "    legend=False,\n",
    "    ylabel=\"Price in $\",\n",
    "    width=1000,\n",
    "    height=400\n",
    ")\n",
    "\n",
    "# Visualize exit position relative to close price\n",
    "exit = NVDA_df[NVDA_df[\"Entry/Exit\"] == -1.0][\"Close\"].hvplot.scatter(\n",
    "    color=\"orange\",\n",
    "    marker=\"v\",\n",
    "    size=200,\n",
    "    legend=False,\n",
    "    ylabel=\"Price in $\",\n",
    "    width=1000,\n",
    "    height=400\n",
    ")\n",
    "\n",
    "# Visualize close price for the investment\n",
    "security_close = META_df[[\"Close\"]].hvplot(\n",
    "    line_color=\"Yellow\",\n",
    "    ylabel=\"Price in $\",\n",
    "    width=1000,\n",
    "    height=400\n",
    ")\n",
    "\n",
    "# Visualize moving averages\n",
    "moving_avgs = META_df[[\"Short\", \"Long\"]].hvplot(\n",
    "    ylabel=\"Price in $\",\n",
    "    width=1000,\n",
    "    height=400\n",
    ")\n",
    "\n",
    "# Overlay plots\n",
    "entry_exit_plot = security_close * moving_avgs * entry * exit\n",
    "entry_exit_plot\n",
    "\n",
    "\n",
    "\n",
    "\n",
    " \n",
    "\n",
    "\n",
    "\n",
    "\n",
    "\n",
    "\n",
    "\n",
    "\n"
   ]
  },
  {
   "cell_type": "code",
   "execution_count": null,
   "id": "08fb3f5a-97a1-4f45-aab7-ab25459cbb4c",
   "metadata": {
    "tags": []
   },
   "outputs": [],
   "source": [
    "stock_df[['Daily Returns Lagged', 'Daily Returns']].corr()\n",
    "\n",
    "# maybe not to use lagged strategy \n",
    "# consider DMAC? "
   ]
  },
  {
   "cell_type": "code",
   "execution_count": null,
   "id": "4391d198-a3cd-45d7-86e6-d9701bc4ac96",
   "metadata": {},
   "outputs": [],
   "source": []
  },
  {
   "cell_type": "code",
   "execution_count": null,
   "id": "5d79dfdb-654c-44ce-87be-451ffd7d601a",
   "metadata": {
    "tags": []
   },
   "outputs": [],
   "source": [
    "stock_df['Cumulative Returns'].plot()"
   ]
  },
  {
   "cell_type": "code",
   "execution_count": null,
   "id": "5d56b6cc-3d36-4d96-b37b-a81bfbb3aa6b",
   "metadata": {
    "tags": []
   },
   "outputs": [],
   "source": []
  },
  {
   "cell_type": "code",
   "execution_count": null,
   "id": "5aed2803-4f18-476e-8f12-07d1a0ce14d4",
   "metadata": {},
   "outputs": [],
   "source": [
    "# Print the selected best model name\n",
    "print(\"Selected Best Model:\", best_model_name)\n",
    "\n",
    "# Print the cross-validation scores for each model and each metric\n",
    "for name, scores in all_scores.items():\n",
    "    print(\"Model:\", name)\n",
    "    for metric, metric_scores in scores.items():\n",
    "        print(f\"Mean {metric.capitalize()} Score:\", metric_scores.mean())\n",
    "\n",
    "# Print the cross-validation MSE scores for each model\n",
    "for name, mse_scores in all_mses.items():\n",
    "    print(\"Model:\", name)\n",
    "    print(\"Cross-Validation MSE Scores:\", mse_scores)"
   ]
  },
  {
   "cell_type": "code",
   "execution_count": null,
   "id": "354d2781-14c4-4fff-91a5-807fa22cf132",
   "metadata": {},
   "outputs": [],
   "source": []
  },
  {
   "cell_type": "markdown",
   "id": "6a57c93c-3257-45bd-ba0a-be7eae065da7",
   "metadata": {},
   "source": [
    "### Risk management and Rewards"
   ]
  },
  {
   "cell_type": "code",
   "execution_count": null,
   "id": "b561ed48-47ca-4d1c-b585-47f0a9fe195f",
   "metadata": {},
   "outputs": [],
   "source": []
  },
  {
   "cell_type": "markdown",
   "id": "6b3240dd-b5cd-4adb-a5cb-8bf9780b2cf9",
   "metadata": {},
   "source": [
    "### Logic to place trade (Optional)"
   ]
  },
  {
   "cell_type": "code",
   "execution_count": null,
   "id": "875a1a9c-1a13-497a-90ef-fc3027fd643c",
   "metadata": {},
   "outputs": [],
   "source": [
    "# From Algo Trading 3 live \n",
    "\n",
    "# Submit order\n",
    "api.submit_order(\n",
    "    symbol=\"META\", \n",
    "    qty=number_of_shares, \n",
    "    side=orderSide, \n",
    "    time_in_force=\"gtc\", \n",
    "    type=\"limit\", \n",
    "    limit_price=limit_amount\n"
   ]
  }
 ],
 "metadata": {
  "kernelspec": {
   "display_name": "Python 3 (ipykernel)",
   "language": "python",
   "name": "python3"
  },
  "language_info": {
   "codemirror_mode": {
    "name": "ipython",
    "version": 3
   },
   "file_extension": ".py",
   "mimetype": "text/x-python",
   "name": "python",
   "nbconvert_exporter": "python",
   "pygments_lexer": "ipython3",
   "version": "3.10.13"
  }
 },
 "nbformat": 4,
 "nbformat_minor": 5
}
