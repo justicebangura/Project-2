{
 "cells": [
  {
   "cell_type": "code",
   "execution_count": 15,
   "id": "5401f047-42e2-4415-b714-23358181c181",
   "metadata": {
    "tags": []
   },
   "outputs": [],
   "source": [
    "import numpy as np\n",
    "import random\n",
    "import seaborn as sns\n",
    "import pandas as pd\n",
    "import matplotlib.pyplot as plt\n",
    "import alpaca_trade_api as tradeapi\n",
    "from dotenv import load_dotenv\n",
    "import os\n",
    "from alpaca_trade_api.rest import REST, TimeFrame\n",
    "import hvplot.pandas\n",
    "from scipy.interpolate import interp1d\n",
    "import models as model\n",
    "\n",
    "import warnings\n",
    "warnings.filterwarnings('ignore')"
   ]
  },
  {
   "cell_type": "code",
   "execution_count": 16,
   "id": "ee4354d3-1c76-41de-9637-1b5a4ed55dcd",
   "metadata": {
    "tags": []
   },
   "outputs": [
    {
     "data": {
      "text/plain": [
       "True"
      ]
     },
     "execution_count": 16,
     "metadata": {},
     "output_type": "execute_result"
    }
   ],
   "source": [
    "load_dotenv()"
   ]
  },
  {
   "cell_type": "code",
   "execution_count": 18,
   "id": "8f610419-60d3-497b-bdec-50d0dd208483",
   "metadata": {
    "tags": []
   },
   "outputs": [],
   "source": [
    "def fetch_stock_data(start_date, end_date, tickers, timeframe = '1Day'):\n",
    "    # Grabbing all necessary alpaca information\n",
    "    alpaca_api_key = os.getenv(\"ALPACA_API_KEY\")\n",
    "    alpaca_secret_key = os.getenv(\"ALPACA_SECRET_KEY\")\n",
    "    api = REST(alpaca_api_key, alpaca_secret_key, base_url = 'https://paper-api.alpaca.markets')\n",
    "    start_date_iso = pd.Timestamp(start_date, tz = 'America/New_York').isoformat()\n",
    "    end_date_iso = pd.Timestamp(end_date, tz = 'America/New_York').isoformat()\n",
    "    # Creating dataframe\n",
    "    df_ticker = api.get_bars(tickers, TimeFrame.Day, start = start_date_iso, end = end_date_iso).df\n",
    "    # Selecting only close price data for each stock, and concatenating them into one dataframe\n",
    "    dfs = {}\n",
    "    for ticker in tickers:\n",
    "        ticker_df = df_ticker.loc[df_ticker.symbol == ticker].drop('symbol', axis = 1)\n",
    "        ticker_df = ticker_df['close']\n",
    "        dfs[ticker] = ticker_df\n",
    "    new_df = pd.concat(dfs.values(), axis = 1, keys = tickers)\n",
    "    # Resetting index to have only date information\n",
    "    new_df.reset_index(inplace = True)\n",
    "    new_df.timestamp = new_df.timestamp.dt.date\n",
    "    new_df.set_index('timestamp', inplace = True)\n",
    "    new_df.index = pd.to_datetime(new_df.index)\n",
    "    return new_df"
   ]
  },
  {
   "cell_type": "code",
   "execution_count": 20,
   "id": "7c79221a-7c9b-423b-9b97-8de27836907d",
   "metadata": {
    "tags": []
   },
   "outputs": [
    {
     "data": {
      "text/html": [
       "<div>\n",
       "<style scoped>\n",
       "    .dataframe tbody tr th:only-of-type {\n",
       "        vertical-align: middle;\n",
       "    }\n",
       "\n",
       "    .dataframe tbody tr th {\n",
       "        vertical-align: top;\n",
       "    }\n",
       "\n",
       "    .dataframe thead th {\n",
       "        text-align: right;\n",
       "    }\n",
       "</style>\n",
       "<table border=\"1\" class=\"dataframe\">\n",
       "  <thead>\n",
       "    <tr style=\"text-align: right;\">\n",
       "      <th></th>\n",
       "      <th>NVDA</th>\n",
       "    </tr>\n",
       "    <tr>\n",
       "      <th>timestamp</th>\n",
       "      <th></th>\n",
       "    </tr>\n",
       "  </thead>\n",
       "  <tbody>\n",
       "    <tr>\n",
       "      <th>2018-01-12</th>\n",
       "      <td>222.759</td>\n",
       "    </tr>\n",
       "    <tr>\n",
       "      <th>2018-01-16</th>\n",
       "      <td>220.110</td>\n",
       "    </tr>\n",
       "    <tr>\n",
       "      <th>2018-01-17</th>\n",
       "      <td>224.720</td>\n",
       "    </tr>\n",
       "    <tr>\n",
       "      <th>2018-01-18</th>\n",
       "      <td>224.440</td>\n",
       "    </tr>\n",
       "    <tr>\n",
       "      <th>2018-01-19</th>\n",
       "      <td>230.110</td>\n",
       "    </tr>\n",
       "    <tr>\n",
       "      <th>...</th>\n",
       "      <td>...</td>\n",
       "    </tr>\n",
       "    <tr>\n",
       "      <th>2024-03-08</th>\n",
       "      <td>875.280</td>\n",
       "    </tr>\n",
       "    <tr>\n",
       "      <th>2024-03-11</th>\n",
       "      <td>857.740</td>\n",
       "    </tr>\n",
       "    <tr>\n",
       "      <th>2024-03-12</th>\n",
       "      <td>919.130</td>\n",
       "    </tr>\n",
       "    <tr>\n",
       "      <th>2024-03-13</th>\n",
       "      <td>908.880</td>\n",
       "    </tr>\n",
       "    <tr>\n",
       "      <th>2024-03-14</th>\n",
       "      <td>879.440</td>\n",
       "    </tr>\n",
       "  </tbody>\n",
       "</table>\n",
       "<p>1552 rows × 1 columns</p>\n",
       "</div>"
      ],
      "text/plain": [
       "               NVDA\n",
       "timestamp          \n",
       "2018-01-12  222.759\n",
       "2018-01-16  220.110\n",
       "2018-01-17  224.720\n",
       "2018-01-18  224.440\n",
       "2018-01-19  230.110\n",
       "...             ...\n",
       "2024-03-08  875.280\n",
       "2024-03-11  857.740\n",
       "2024-03-12  919.130\n",
       "2024-03-13  908.880\n",
       "2024-03-14  879.440\n",
       "\n",
       "[1552 rows x 1 columns]"
      ]
     },
     "execution_count": 20,
     "metadata": {},
     "output_type": "execute_result"
    }
   ],
   "source": [
    "stock_list = ['NVDA']\n",
    "df = fetch_stock_data('2018-01-12', '2024-03-14', stock_list)\n",
    "df"
   ]
  },
  {
   "cell_type": "code",
   "execution_count": null,
   "id": "59ea2daf-2ce3-47ce-b3f7-6a43dd3cd577",
   "metadata": {},
   "outputs": [],
   "source": []
  }
 ],
 "metadata": {
  "kernelspec": {
   "display_name": "Python 3 (ipykernel)",
   "language": "python",
   "name": "python3"
  },
  "language_info": {
   "codemirror_mode": {
    "name": "ipython",
    "version": 3
   },
   "file_extension": ".py",
   "mimetype": "text/x-python",
   "name": "python",
   "nbconvert_exporter": "python",
   "pygments_lexer": "ipython3",
   "version": "3.11.5"
  }
 },
 "nbformat": 4,
 "nbformat_minor": 5
}
