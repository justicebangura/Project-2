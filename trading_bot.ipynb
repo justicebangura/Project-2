{
 "cells": [
  {
   "cell_type": "markdown",
   "id": "fc6cb2f3-dc4d-48f0-9028-1497b8a4c811",
   "metadata": {
    "tags": []
   },
   "source": [
    "# The Ultimate Algo Trader (Neurobot 1.0)\n",
    "\n",
    "![Python Trading bot](https://futurewithtech.com/wp-content/uploads/2021/06/Forex-trading-robots-scaled-1.jpg)"
   ]
  },
  {
   "cell_type": "markdown",
   "id": "7fa19c1e-f6ae-4b31-a8f2-25d7451006b6",
   "metadata": {},
   "source": [
    "## Introduction:\n",
    "This jupyter notebook contains code for developing and testing a dynamic algorithmic trader based on Python and Machine learning strategy."
   ]
  },
  {
   "cell_type": "markdown",
   "id": "c433b8e2-525a-43d9-98d9-62a8302ecc32",
   "metadata": {},
   "source": [
    "## Steps:\n",
    "1. **Data preperation**: Access historical market data via Alpaca API and preprocess it for analysis.\n",
    "2. **Strategy creation**: Code algorithmic trading strategy based on \"TBD\".\n",
    "3. **Backtesting-Optimization**: Backtest the strategy using historical data and fine-tune parameters for better performance.\n",
    "4. **Risk/Reward**: Calculate both the risk and the reward based on the entry price, position size, stop-loss and target price\n",
    "5. **live Trading(Optional)**: Implement the strategy for paper trading on Alpaca.\n",
    "\n",
    "**Tools and Libaries** \n",
    "- Python, Pandas, Numpy, \"TBD\""
   ]
  },
  {
   "cell_type": "markdown",
   "id": "0c1911c0-4920-456e-832c-08b3fb981035",
   "metadata": {},
   "source": [
    "#### Notes: \n",
    "- This notebook is for educational and experimental purposes only."
   ]
  },
  {
   "cell_type": "markdown",
   "id": "9d926644-3b5c-4ae6-838a-8be48b67a188",
   "metadata": {},
   "source": [
    "### Imports and Dependencies"
   ]
  },
  {
   "cell_type": "code",
   "execution_count": null,
   "id": "5401f047-42e2-4415-b714-23358181c181",
   "metadata": {
    "tags": []
   },
   "outputs": [],
   "source": [
    "import os\n",
    "import numpy as np\n",
    "import random\n",
    "import seaborn as sns\n",
    "import pandas as pd\n",
    "import hvplot.pandas\n",
    "import matplotlib.pyplot as plt\n",
    "import alpaca_trade_api as tradeapi\n",
    "from dotenv import load_dotenv\n",
    "from scipy.interpolate import interp1d\n",
    "from alpaca_trade_api.rest import REST, TimeFrame\n",
    "\n",
    "# Initialize python files to import functions\n",
    "import stock_data as data\n",
    "import algo_strategy as strategy\n",
    "import nn_models as model\n",
    "import backtesting as backtest\n",
    "\n",
    "import warnings\n",
    "warnings.filterwarnings('ignore')"
   ]
  },
  {
   "cell_type": "code",
   "execution_count": null,
   "id": "ee4354d3-1c76-41de-9637-1b5a4ed55dcd",
   "metadata": {
    "tags": []
   },
   "outputs": [],
   "source": [
    "load_dotenv()"
   ]
  },
  {
   "cell_type": "markdown",
   "id": "982b2c3a-facd-40c1-8cf0-9f4a5f097506",
   "metadata": {},
   "source": [
    "### Data Processing and collection"
   ]
  },
  {
   "cell_type": "code",
   "execution_count": null,
   "id": "7c79221a-7c9b-423b-9b97-8de27836907d",
   "metadata": {
    "tags": []
   },
   "outputs": [],
   "source": [
    "# import stock data\n",
    "df = data.fetch_stock_data('2018-01-12', '2024-03-14', tickers = ['NVDA'], timeframe = '1Day')\n",
    "df"
   ]
  },
  {
   "cell_type": "code",
   "execution_count": null,
   "id": "59ea2daf-2ce3-47ce-b3f7-6a43dd3cd577",
   "metadata": {
    "tags": []
   },
   "outputs": [],
   "source": [
    "# data cleaning\n",
    "df = df.rename(columns={'NVDA': 'NVDA close'})\n",
    "df['Daily Returns'] = df['NVDA close'].pct_change()\n",
    "df = df.dropna()\n",
    "df"
   ]
  },
  {
   "cell_type": "markdown",
   "id": "8602c5a7-8885-4e99-baae-1e0302f969c3",
   "metadata": {},
   "source": [
    "### Feauture Engineering - Time series Analysis"
   ]
  },
  {
   "cell_type": "code",
   "execution_count": null,
   "id": "42ca8159-340c-4f9e-91a8-f8ccf8651ef1",
   "metadata": {
    "tags": []
   },
   "outputs": [],
   "source": [
    "df['Cumulative Returns'] = (1 + df['Daily Returns']).cumprod()\n",
    "df"
   ]
  },
  {
   "cell_type": "code",
   "execution_count": null,
   "id": "5d79dfdb-654c-44ce-87be-451ffd7d601a",
   "metadata": {
    "tags": []
   },
   "outputs": [],
   "source": [
    "df['Cumulative Returns'].plot()"
   ]
  },
  {
   "cell_type": "code",
   "execution_count": null,
   "id": "9321a2dc-48e0-40d6-86a4-8ec1c55b634a",
   "metadata": {
    "tags": []
   },
   "outputs": [],
   "source": [
    "# set window sizes based on strategy\n",
    "short_window = 5\n",
    "long_window = 100\n",
    "\n",
    "df['SMA_Fast'] = df['NVDA close'].rolling(window=short_window).mean()\n",
    "df['SMA_Slow'] = df['NVDA close'].rolling(window=long_window).mean()\n",
    "\n",
    "df = df.dropna()\n",
    "df\n",
    "# later on -> trial different training windows using DateOffset()"
   ]
  },
  {
   "cell_type": "code",
   "execution_count": null,
   "id": "241f35f8-942e-4b2e-9b90-90e0ca0517f3",
   "metadata": {
    "tags": []
   },
   "outputs": [],
   "source": [
    "# Initialize Signals based on strategy (i.e. DMAC, buy and hold, etc) "
   ]
  },
  {
   "cell_type": "code",
   "execution_count": null,
   "id": "3e112592-40ff-4ef2-a240-33ade1414e66",
   "metadata": {
    "tags": []
   },
   "outputs": [],
   "source": [
    "df['Daily Returns Lagged'] = df['Daily Returns'].shift(-1)\n",
    "df"
   ]
  },
  {
   "cell_type": "code",
   "execution_count": null,
   "id": "08fb3f5a-97a1-4f45-aab7-ab25459cbb4c",
   "metadata": {
    "tags": []
   },
   "outputs": [],
   "source": [
    "df[['Daily Returns Lagged', 'Daily Returns']].corr()\n",
    "\n",
    "# maybe not to use lagged strategy \n",
    "# consider DMAC? "
   ]
  },
  {
   "cell_type": "markdown",
   "id": "8955ed4c-da46-4ab8-bf3f-8326706301a6",
   "metadata": {},
   "source": [
    "### Algo trading strategies - logic to comapre or combine trading strategy such as Daily returns lag, Anual returns, SMA, Exponential"
   ]
  },
  {
   "cell_type": "code",
   "execution_count": null,
   "id": "b89e7b17-6f35-4fcf-bd53-deb7ba770847",
   "metadata": {},
   "outputs": [],
   "source": [
    "# Initialize a simple winnig trading strategy \n",
    "def simple_strategies(strategies, stock_data):\n",
    "    \n",
    "# Initialize a hybrid trading strategy    \n",
    "def hybrid_strategies(Stock_data):\n",
    "    \"\"\"\n",
    "    This function combine elements from multiple trading strategies to create a hybrid strategy\n",
    "    \n",
    "    Input: \n",
    "    - It uses historical stock data for evaluation, Stock_data.\n",
    "    Returns:\n",
    "    - It returns a hybrid_startegy trading signall\n",
    "    \"\"\"\n",
    "    signal_one = #strategy_one(stock_data)\n",
    "    signal_two\n",
    "    \n",
    "    \n",
    "    \n",
    "    \n",
    "    "
   ]
  },
  {
   "cell_type": "markdown",
   "id": "e68277bd-9711-49eb-971d-0ae724e08337",
   "metadata": {},
   "source": [
    "### Machine Learning (LSTM ) + other model logreg or SVM - Logic that compares which model "
   ]
  },
  {
   "cell_type": "code",
   "execution_count": null,
   "id": "203e40da-0a79-4856-abb8-6e94ea17fc9e",
   "metadata": {},
   "outputs": [],
   "source": []
  },
  {
   "cell_type": "markdown",
   "id": "58d8e77d-ec8b-40fd-b635-d171d51d3a1e",
   "metadata": {},
   "source": [
    "### Backtesting - Model and strategy tuning logic to increase profitability"
   ]
  },
  {
   "cell_type": "code",
   "execution_count": null,
   "id": "feaa2327-7b71-4a48-add0-a46e35d530f8",
   "metadata": {},
   "outputs": [],
   "source": []
  },
  {
   "cell_type": "markdown",
   "id": "6a57c93c-3257-45bd-ba0a-be7eae065da7",
   "metadata": {},
   "source": [
    "### Risk management and Rewards"
   ]
  },
  {
   "cell_type": "code",
   "execution_count": null,
   "id": "5d56b6cc-3d36-4d96-b37b-a81bfbb3aa6b",
   "metadata": {},
   "outputs": [],
   "source": []
  },
  {
   "cell_type": "markdown",
   "id": "140285e9-7535-41d8-9ed2-623347072f1c",
   "metadata": {},
   "source": [
    "### Fundamental Analysis (Predictions and Plotting)"
   ]
  },
  {
   "cell_type": "code",
   "execution_count": null,
   "id": "875a1a9c-1a13-497a-90ef-fc3027fd643c",
   "metadata": {},
   "outputs": [],
   "source": [
    "# From Algo Trading 3 live \n",
    "\n",
    "# Submit order\n",
    "api.submit_order(\n",
    "    symbol=\"META\", \n",
    "    qty=number_of_shares, \n",
    "    side=orderSide, \n",
    "    time_in_force=\"gtc\", \n",
    "    type=\"limit\", \n",
    "    limit_price=limit_amount\n"
   ]
  }
 ],
 "metadata": {
  "kernelspec": {
   "display_name": "Python 3 (ipykernel)",
   "language": "python",
   "name": "python3"
  },
  "language_info": {
   "codemirror_mode": {
    "name": "ipython",
    "version": 3
   },
   "file_extension": ".py",
   "mimetype": "text/x-python",
   "name": "python",
   "nbconvert_exporter": "python",
   "pygments_lexer": "ipython3",
   "version": "3.10.13"
  }
 },
 "nbformat": 4,
 "nbformat_minor": 5
}
