{
 "cells": [
  {
   "cell_type": "markdown",
   "id": "fc6cb2f3-dc4d-48f0-9028-1497b8a4c811",
   "metadata": {
    "tags": []
   },
   "source": [
    "# The Ultimate Algo Trader (Neurobot 1.0)"
   ]
  },
  {
   "cell_type": "markdown",
   "id": "7fa19c1e-f6ae-4b31-a8f2-25d7451006b6",
   "metadata": {},
   "source": [
    "## Introduction:\n",
    "This jupyter notebook contains code for developing and testing a dynamic algorithmic trader based on Python and Machine learning strategy."
   ]
  },
  {
   "cell_type": "markdown",
   "id": "c433b8e2-525a-43d9-98d9-62a8302ecc32",
   "metadata": {},
   "source": [
    "## Steps:\n",
    "1. **Data preperation**: Access historical market data via Alpaca API and preprocess it for analysis.\n",
    "2. **Strategy creation**: Code algorithmic trading strategy based on \"TBD\".\n",
    "3. **Backtesting-Optimization**: Backtest the strategy using historical data and fine-tune parameters for better performance.\n",
    "4. **Risk/Reward**: Calculate both the risk and the reward based on the entry price, position size, stop-loss and target price\n",
    "5. **live Trading(Optional)**: Implement the strategy for paper trading on Alpaca.\n",
    "\n",
    "**Tools and Libaries** \n",
    "- Python, Pandas, Numpy, \"TBD\""
   ]
  },
  {
   "cell_type": "markdown",
   "id": "9d926644-3b5c-4ae6-838a-8be48b67a188",
   "metadata": {},
   "source": [
    "### Imports and Dependencies"
   ]
  },
  {
   "cell_type": "code",
   "execution_count": 1,
   "id": "5401f047-42e2-4415-b714-23358181c181",
   "metadata": {
    "tags": []
   },
   "outputs": [
    {
     "data": {
      "application/javascript": "(function(root) {\n  function now() {\n    return new Date();\n  }\n\n  var force = true;\n  var py_version = '3.2.1'.replace('rc', '-rc.').replace('.dev', '-dev.');\n  var is_dev = py_version.indexOf(\"+\") !== -1 || py_version.indexOf(\"-\") !== -1;\n  var reloading = false;\n  var Bokeh = root.Bokeh;\n  var bokeh_loaded = Bokeh != null && (Bokeh.version === py_version || (Bokeh.versions !== undefined && Bokeh.versions.has(py_version)));\n\n  if (typeof (root._bokeh_timeout) === \"undefined\" || force) {\n    root._bokeh_timeout = Date.now() + 5000;\n    root._bokeh_failed_load = false;\n  }\n\n  function run_callbacks() {\n    try {\n      root._bokeh_onload_callbacks.forEach(function(callback) {\n        if (callback != null)\n          callback();\n      });\n    } finally {\n      delete root._bokeh_onload_callbacks;\n    }\n    console.debug(\"Bokeh: all callbacks have finished\");\n  }\n\n  function load_libs(css_urls, js_urls, js_modules, js_exports, callback) {\n    if (css_urls == null) css_urls = [];\n    if (js_urls == null) js_urls = [];\n    if (js_modules == null) js_modules = [];\n    if (js_exports == null) js_exports = {};\n\n    root._bokeh_onload_callbacks.push(callback);\n\n    if (root._bokeh_is_loading > 0) {\n      console.debug(\"Bokeh: BokehJS is being loaded, scheduling callback at\", now());\n      return null;\n    }\n    if (js_urls.length === 0 && js_modules.length === 0 && Object.keys(js_exports).length === 0) {\n      run_callbacks();\n      return null;\n    }\n    if (!reloading) {\n      console.debug(\"Bokeh: BokehJS not loaded, scheduling load and callback at\", now());\n    }\n\n    function on_load() {\n      root._bokeh_is_loading--;\n      if (root._bokeh_is_loading === 0) {\n        console.debug(\"Bokeh: all BokehJS libraries/stylesheets loaded\");\n        run_callbacks()\n      }\n    }\n    window._bokeh_on_load = on_load\n\n    function on_error() {\n      console.error(\"failed to load \" + url);\n    }\n\n    var skip = [];\n    if (window.requirejs) {\n      window.requirejs.config({'packages': {}, 'paths': {'jspanel': 'https://cdn.jsdelivr.net/npm/jspanel4@4.12.0/dist/jspanel', 'jspanel-modal': 'https://cdn.jsdelivr.net/npm/jspanel4@4.12.0/dist/extensions/modal/jspanel.modal', 'jspanel-tooltip': 'https://cdn.jsdelivr.net/npm/jspanel4@4.12.0/dist/extensions/tooltip/jspanel.tooltip', 'jspanel-hint': 'https://cdn.jsdelivr.net/npm/jspanel4@4.12.0/dist/extensions/hint/jspanel.hint', 'jspanel-layout': 'https://cdn.jsdelivr.net/npm/jspanel4@4.12.0/dist/extensions/layout/jspanel.layout', 'jspanel-contextmenu': 'https://cdn.jsdelivr.net/npm/jspanel4@4.12.0/dist/extensions/contextmenu/jspanel.contextmenu', 'jspanel-dock': 'https://cdn.jsdelivr.net/npm/jspanel4@4.12.0/dist/extensions/dock/jspanel.dock', 'gridstack': 'https://cdn.jsdelivr.net/npm/gridstack@7.2.3/dist/gridstack-all', 'notyf': 'https://cdn.jsdelivr.net/npm/notyf@3/notyf.min'}, 'shim': {'jspanel': {'exports': 'jsPanel'}, 'gridstack': {'exports': 'GridStack'}}});\n      require([\"jspanel\"], function(jsPanel) {\n\twindow.jsPanel = jsPanel\n\ton_load()\n      })\n      require([\"jspanel-modal\"], function() {\n\ton_load()\n      })\n      require([\"jspanel-tooltip\"], function() {\n\ton_load()\n      })\n      require([\"jspanel-hint\"], function() {\n\ton_load()\n      })\n      require([\"jspanel-layout\"], function() {\n\ton_load()\n      })\n      require([\"jspanel-contextmenu\"], function() {\n\ton_load()\n      })\n      require([\"jspanel-dock\"], function() {\n\ton_load()\n      })\n      require([\"gridstack\"], function(GridStack) {\n\twindow.GridStack = GridStack\n\ton_load()\n      })\n      require([\"notyf\"], function() {\n\ton_load()\n      })\n      root._bokeh_is_loading = css_urls.length + 9;\n    } else {\n      root._bokeh_is_loading = css_urls.length + js_urls.length + js_modules.length + Object.keys(js_exports).length;\n    }\n\n    var existing_stylesheets = []\n    var links = document.getElementsByTagName('link')\n    for (var i = 0; i < links.length; i++) {\n      var link = links[i]\n      if (link.href != null) {\n\texisting_stylesheets.push(link.href)\n      }\n    }\n    for (var i = 0; i < css_urls.length; i++) {\n      var url = css_urls[i];\n      if (existing_stylesheets.indexOf(url) !== -1) {\n\ton_load()\n\tcontinue;\n      }\n      const element = document.createElement(\"link\");\n      element.onload = on_load;\n      element.onerror = on_error;\n      element.rel = \"stylesheet\";\n      element.type = \"text/css\";\n      element.href = url;\n      console.debug(\"Bokeh: injecting link tag for BokehJS stylesheet: \", url);\n      document.body.appendChild(element);\n    }    if (((window['jsPanel'] !== undefined) && (!(window['jsPanel'] instanceof HTMLElement))) || window.requirejs) {\n      var urls = ['https://cdn.holoviz.org/panel/1.2.3/dist/bundled/floatpanel/jspanel4@4.12.0/dist/jspanel.js', 'https://cdn.holoviz.org/panel/1.2.3/dist/bundled/floatpanel/jspanel4@4.12.0/dist/extensions/modal/jspanel.modal.js', 'https://cdn.holoviz.org/panel/1.2.3/dist/bundled/floatpanel/jspanel4@4.12.0/dist/extensions/tooltip/jspanel.tooltip.js', 'https://cdn.holoviz.org/panel/1.2.3/dist/bundled/floatpanel/jspanel4@4.12.0/dist/extensions/hint/jspanel.hint.js', 'https://cdn.holoviz.org/panel/1.2.3/dist/bundled/floatpanel/jspanel4@4.12.0/dist/extensions/layout/jspanel.layout.js', 'https://cdn.holoviz.org/panel/1.2.3/dist/bundled/floatpanel/jspanel4@4.12.0/dist/extensions/contextmenu/jspanel.contextmenu.js', 'https://cdn.holoviz.org/panel/1.2.3/dist/bundled/floatpanel/jspanel4@4.12.0/dist/extensions/dock/jspanel.dock.js'];\n      for (var i = 0; i < urls.length; i++) {\n        skip.push(urls[i])\n      }\n    }    if (((window['GridStack'] !== undefined) && (!(window['GridStack'] instanceof HTMLElement))) || window.requirejs) {\n      var urls = ['https://cdn.holoviz.org/panel/1.2.3/dist/bundled/gridstack/gridstack@7.2.3/dist/gridstack-all.js'];\n      for (var i = 0; i < urls.length; i++) {\n        skip.push(urls[i])\n      }\n    }    if (((window['Notyf'] !== undefined) && (!(window['Notyf'] instanceof HTMLElement))) || window.requirejs) {\n      var urls = ['https://cdn.holoviz.org/panel/1.2.3/dist/bundled/notificationarea/notyf@3/notyf.min.js'];\n      for (var i = 0; i < urls.length; i++) {\n        skip.push(urls[i])\n      }\n    }    var existing_scripts = []\n    var scripts = document.getElementsByTagName('script')\n    for (var i = 0; i < scripts.length; i++) {\n      var script = scripts[i]\n      if (script.src != null) {\n\texisting_scripts.push(script.src)\n      }\n    }\n    for (var i = 0; i < js_urls.length; i++) {\n      var url = js_urls[i];\n      if (skip.indexOf(url) !== -1 || existing_scripts.indexOf(url) !== -1) {\n\tif (!window.requirejs) {\n\t  on_load();\n\t}\n\tcontinue;\n      }\n      var element = document.createElement('script');\n      element.onload = on_load;\n      element.onerror = on_error;\n      element.async = false;\n      element.src = url;\n      console.debug(\"Bokeh: injecting script tag for BokehJS library: \", url);\n      document.head.appendChild(element);\n    }\n    for (var i = 0; i < js_modules.length; i++) {\n      var url = js_modules[i];\n      if (skip.indexOf(url) !== -1 || existing_scripts.indexOf(url) !== -1) {\n\tif (!window.requirejs) {\n\t  on_load();\n\t}\n\tcontinue;\n      }\n      var element = document.createElement('script');\n      element.onload = on_load;\n      element.onerror = on_error;\n      element.async = false;\n      element.src = url;\n      element.type = \"module\";\n      console.debug(\"Bokeh: injecting script tag for BokehJS library: \", url);\n      document.head.appendChild(element);\n    }\n    for (const name in js_exports) {\n      var url = js_exports[name];\n      if (skip.indexOf(url) >= 0 || root[name] != null) {\n\tif (!window.requirejs) {\n\t  on_load();\n\t}\n\tcontinue;\n      }\n      var element = document.createElement('script');\n      element.onerror = on_error;\n      element.async = false;\n      element.type = \"module\";\n      console.debug(\"Bokeh: injecting script tag for BokehJS library: \", url);\n      element.textContent = `\n      import ${name} from \"${url}\"\n      window.${name} = ${name}\n      window._bokeh_on_load()\n      `\n      document.head.appendChild(element);\n    }\n    if (!js_urls.length && !js_modules.length) {\n      on_load()\n    }\n  };\n\n  function inject_raw_css(css) {\n    const element = document.createElement(\"style\");\n    element.appendChild(document.createTextNode(css));\n    document.body.appendChild(element);\n  }\n\n  var js_urls = [\"https://cdn.bokeh.org/bokeh/release/bokeh-3.2.1.min.js\", \"https://cdn.bokeh.org/bokeh/release/bokeh-gl-3.2.1.min.js\", \"https://cdn.bokeh.org/bokeh/release/bokeh-widgets-3.2.1.min.js\", \"https://cdn.bokeh.org/bokeh/release/bokeh-tables-3.2.1.min.js\", \"https://cdn.holoviz.org/panel/1.2.3/dist/panel.min.js\"];\n  var js_modules = [];\n  var js_exports = {};\n  var css_urls = [];\n  var inline_js = [    function(Bokeh) {\n      Bokeh.set_log_level(\"info\");\n    },\nfunction(Bokeh) {} // ensure no trailing comma for IE\n  ];\n\n  function run_inline_js() {\n    if ((root.Bokeh !== undefined) || (force === true)) {\n      for (var i = 0; i < inline_js.length; i++) {\n        inline_js[i].call(root, root.Bokeh);\n      }\n      // Cache old bokeh versions\n      if (Bokeh != undefined && !reloading) {\n\tvar NewBokeh = root.Bokeh;\n\tif (Bokeh.versions === undefined) {\n\t  Bokeh.versions = new Map();\n\t}\n\tif (NewBokeh.version !== Bokeh.version) {\n\t  Bokeh.versions.set(NewBokeh.version, NewBokeh)\n\t}\n\troot.Bokeh = Bokeh;\n      }} else if (Date.now() < root._bokeh_timeout) {\n      setTimeout(run_inline_js, 100);\n    } else if (!root._bokeh_failed_load) {\n      console.log(\"Bokeh: BokehJS failed to load within specified timeout.\");\n      root._bokeh_failed_load = true;\n    }\n    root._bokeh_is_initializing = false\n  }\n\n  function load_or_wait() {\n    // Implement a backoff loop that tries to ensure we do not load multiple\n    // versions of Bokeh and its dependencies at the same time.\n    // In recent versions we use the root._bokeh_is_initializing flag\n    // to determine whether there is an ongoing attempt to initialize\n    // bokeh, however for backward compatibility we also try to ensure\n    // that we do not start loading a newer (Panel>=1.0 and Bokeh>3) version\n    // before older versions are fully initialized.\n    if (root._bokeh_is_initializing && Date.now() > root._bokeh_timeout) {\n      root._bokeh_is_initializing = false;\n      root._bokeh_onload_callbacks = undefined;\n      console.log(\"Bokeh: BokehJS was loaded multiple times but one version failed to initialize.\");\n      load_or_wait();\n    } else if (root._bokeh_is_initializing || (typeof root._bokeh_is_initializing === \"undefined\" && root._bokeh_onload_callbacks !== undefined)) {\n      setTimeout(load_or_wait, 100);\n    } else {\n      Bokeh = root.Bokeh;\n      bokeh_loaded = Bokeh != null && (Bokeh.version === py_version || (Bokeh.versions !== undefined && Bokeh.versions.has(py_version)));\n      root._bokeh_is_initializing = true\n      root._bokeh_onload_callbacks = []\n      if (!reloading && (!bokeh_loaded || is_dev)) {\n\troot.Bokeh = undefined;\n      }\n      load_libs(css_urls, js_urls, js_modules, js_exports, function() {\n\tconsole.debug(\"Bokeh: BokehJS plotting callback run at\", now());\n\trun_inline_js();\n      });\n    }\n  }\n  // Give older versions of the autoload script a head-start to ensure\n  // they initialize before we start loading newer version.\n  setTimeout(load_or_wait, 100)\n}(window));",
      "application/vnd.holoviews_load.v0+json": ""
     },
     "metadata": {},
     "output_type": "display_data"
    },
    {
     "data": {
      "application/javascript": "\nif ((window.PyViz === undefined) || (window.PyViz instanceof HTMLElement)) {\n  window.PyViz = {comms: {}, comm_status:{}, kernels:{}, receivers: {}, plot_index: []}\n}\n\n\n    function JupyterCommManager() {\n    }\n\n    JupyterCommManager.prototype.register_target = function(plot_id, comm_id, msg_handler) {\n      if (window.comm_manager || ((window.Jupyter !== undefined) && (Jupyter.notebook.kernel != null))) {\n        var comm_manager = window.comm_manager || Jupyter.notebook.kernel.comm_manager;\n        comm_manager.register_target(comm_id, function(comm) {\n          comm.on_msg(msg_handler);\n        });\n      } else if ((plot_id in window.PyViz.kernels) && (window.PyViz.kernels[plot_id])) {\n        window.PyViz.kernels[plot_id].registerCommTarget(comm_id, function(comm) {\n          comm.onMsg = msg_handler;\n        });\n      } else if (typeof google != 'undefined' && google.colab.kernel != null) {\n        google.colab.kernel.comms.registerTarget(comm_id, (comm) => {\n          var messages = comm.messages[Symbol.asyncIterator]();\n          function processIteratorResult(result) {\n            var message = result.value;\n            console.log(message)\n            var content = {data: message.data, comm_id};\n            var buffers = []\n            for (var buffer of message.buffers || []) {\n              buffers.push(new DataView(buffer))\n            }\n            var metadata = message.metadata || {};\n            var msg = {content, buffers, metadata}\n            msg_handler(msg);\n            return messages.next().then(processIteratorResult);\n          }\n          return messages.next().then(processIteratorResult);\n        })\n      }\n    }\n\n    JupyterCommManager.prototype.get_client_comm = function(plot_id, comm_id, msg_handler) {\n      if (comm_id in window.PyViz.comms) {\n        return window.PyViz.comms[comm_id];\n      } else if (window.comm_manager || ((window.Jupyter !== undefined) && (Jupyter.notebook.kernel != null))) {\n        var comm_manager = window.comm_manager || Jupyter.notebook.kernel.comm_manager;\n        var comm = comm_manager.new_comm(comm_id, {}, {}, {}, comm_id);\n        if (msg_handler) {\n          comm.on_msg(msg_handler);\n        }\n      } else if ((plot_id in window.PyViz.kernels) && (window.PyViz.kernels[plot_id])) {\n        var comm = window.PyViz.kernels[plot_id].connectToComm(comm_id);\n        comm.open();\n        if (msg_handler) {\n          comm.onMsg = msg_handler;\n        }\n      } else if (typeof google != 'undefined' && google.colab.kernel != null) {\n        var comm_promise = google.colab.kernel.comms.open(comm_id)\n        comm_promise.then((comm) => {\n          window.PyViz.comms[comm_id] = comm;\n          if (msg_handler) {\n            var messages = comm.messages[Symbol.asyncIterator]();\n            function processIteratorResult(result) {\n              var message = result.value;\n              var content = {data: message.data};\n              var metadata = message.metadata || {comm_id};\n              var msg = {content, metadata}\n              msg_handler(msg);\n              return messages.next().then(processIteratorResult);\n            }\n            return messages.next().then(processIteratorResult);\n          }\n        }) \n        var sendClosure = (data, metadata, buffers, disposeOnDone) => {\n          return comm_promise.then((comm) => {\n            comm.send(data, metadata, buffers, disposeOnDone);\n          });\n        };\n        var comm = {\n          send: sendClosure\n        };\n      }\n      window.PyViz.comms[comm_id] = comm;\n      return comm;\n    }\n    window.PyViz.comm_manager = new JupyterCommManager();\n    \n\n\nvar JS_MIME_TYPE = 'application/javascript';\nvar HTML_MIME_TYPE = 'text/html';\nvar EXEC_MIME_TYPE = 'application/vnd.holoviews_exec.v0+json';\nvar CLASS_NAME = 'output';\n\n/**\n * Render data to the DOM node\n */\nfunction render(props, node) {\n  var div = document.createElement(\"div\");\n  var script = document.createElement(\"script\");\n  node.appendChild(div);\n  node.appendChild(script);\n}\n\n/**\n * Handle when a new output is added\n */\nfunction handle_add_output(event, handle) {\n  var output_area = handle.output_area;\n  var output = handle.output;\n  if ((output.data == undefined) || (!output.data.hasOwnProperty(EXEC_MIME_TYPE))) {\n    return\n  }\n  var id = output.metadata[EXEC_MIME_TYPE][\"id\"];\n  var toinsert = output_area.element.find(\".\" + CLASS_NAME.split(' ')[0]);\n  if (id !== undefined) {\n    var nchildren = toinsert.length;\n    var html_node = toinsert[nchildren-1].children[0];\n    html_node.innerHTML = output.data[HTML_MIME_TYPE];\n    var scripts = [];\n    var nodelist = html_node.querySelectorAll(\"script\");\n    for (var i in nodelist) {\n      if (nodelist.hasOwnProperty(i)) {\n        scripts.push(nodelist[i])\n      }\n    }\n\n    scripts.forEach( function (oldScript) {\n      var newScript = document.createElement(\"script\");\n      var attrs = [];\n      var nodemap = oldScript.attributes;\n      for (var j in nodemap) {\n        if (nodemap.hasOwnProperty(j)) {\n          attrs.push(nodemap[j])\n        }\n      }\n      attrs.forEach(function(attr) { newScript.setAttribute(attr.name, attr.value) });\n      newScript.appendChild(document.createTextNode(oldScript.innerHTML));\n      oldScript.parentNode.replaceChild(newScript, oldScript);\n    });\n    if (JS_MIME_TYPE in output.data) {\n      toinsert[nchildren-1].children[1].textContent = output.data[JS_MIME_TYPE];\n    }\n    output_area._hv_plot_id = id;\n    if ((window.Bokeh !== undefined) && (id in Bokeh.index)) {\n      window.PyViz.plot_index[id] = Bokeh.index[id];\n    } else {\n      window.PyViz.plot_index[id] = null;\n    }\n  } else if (output.metadata[EXEC_MIME_TYPE][\"server_id\"] !== undefined) {\n    var bk_div = document.createElement(\"div\");\n    bk_div.innerHTML = output.data[HTML_MIME_TYPE];\n    var script_attrs = bk_div.children[0].attributes;\n    for (var i = 0; i < script_attrs.length; i++) {\n      toinsert[toinsert.length - 1].childNodes[1].setAttribute(script_attrs[i].name, script_attrs[i].value);\n    }\n    // store reference to server id on output_area\n    output_area._bokeh_server_id = output.metadata[EXEC_MIME_TYPE][\"server_id\"];\n  }\n}\n\n/**\n * Handle when an output is cleared or removed\n */\nfunction handle_clear_output(event, handle) {\n  var id = handle.cell.output_area._hv_plot_id;\n  var server_id = handle.cell.output_area._bokeh_server_id;\n  if (((id === undefined) || !(id in PyViz.plot_index)) && (server_id !== undefined)) { return; }\n  var comm = window.PyViz.comm_manager.get_client_comm(\"hv-extension-comm\", \"hv-extension-comm\", function () {});\n  if (server_id !== null) {\n    comm.send({event_type: 'server_delete', 'id': server_id});\n    return;\n  } else if (comm !== null) {\n    comm.send({event_type: 'delete', 'id': id});\n  }\n  delete PyViz.plot_index[id];\n  if ((window.Bokeh !== undefined) & (id in window.Bokeh.index)) {\n    var doc = window.Bokeh.index[id].model.document\n    doc.clear();\n    const i = window.Bokeh.documents.indexOf(doc);\n    if (i > -1) {\n      window.Bokeh.documents.splice(i, 1);\n    }\n  }\n}\n\n/**\n * Handle kernel restart event\n */\nfunction handle_kernel_cleanup(event, handle) {\n  delete PyViz.comms[\"hv-extension-comm\"];\n  window.PyViz.plot_index = {}\n}\n\n/**\n * Handle update_display_data messages\n */\nfunction handle_update_output(event, handle) {\n  handle_clear_output(event, {cell: {output_area: handle.output_area}})\n  handle_add_output(event, handle)\n}\n\nfunction register_renderer(events, OutputArea) {\n  function append_mime(data, metadata, element) {\n    // create a DOM node to render to\n    var toinsert = this.create_output_subarea(\n    metadata,\n    CLASS_NAME,\n    EXEC_MIME_TYPE\n    );\n    this.keyboard_manager.register_events(toinsert);\n    // Render to node\n    var props = {data: data, metadata: metadata[EXEC_MIME_TYPE]};\n    render(props, toinsert[0]);\n    element.append(toinsert);\n    return toinsert\n  }\n\n  events.on('output_added.OutputArea', handle_add_output);\n  events.on('output_updated.OutputArea', handle_update_output);\n  events.on('clear_output.CodeCell', handle_clear_output);\n  events.on('delete.Cell', handle_clear_output);\n  events.on('kernel_ready.Kernel', handle_kernel_cleanup);\n\n  OutputArea.prototype.register_mime_type(EXEC_MIME_TYPE, append_mime, {\n    safe: true,\n    index: 0\n  });\n}\n\nif (window.Jupyter !== undefined) {\n  try {\n    var events = require('base/js/events');\n    var OutputArea = require('notebook/js/outputarea').OutputArea;\n    if (OutputArea.prototype.mime_types().indexOf(EXEC_MIME_TYPE) == -1) {\n      register_renderer(events, OutputArea);\n    }\n  } catch(err) {\n  }\n}\n",
      "application/vnd.holoviews_load.v0+json": ""
     },
     "metadata": {},
     "output_type": "display_data"
    },
    {
     "data": {
      "text/html": [
       "<style>*[data-root-id],\n",
       "*[data-root-id] > * {\n",
       "  box-sizing: border-box;\n",
       "  font-family: var(--jp-ui-font-family);\n",
       "  font-size: var(--jp-ui-font-size1);\n",
       "  color: var(--vscode-editor-foreground, var(--jp-ui-font-color1));\n",
       "}\n",
       "\n",
       "/* Override VSCode background color */\n",
       ".cell-output-ipywidget-background:has(\n",
       "    > .cell-output-ipywidget-background > .lm-Widget > *[data-root-id]\n",
       "  ),\n",
       ".cell-output-ipywidget-background:has(> .lm-Widget > *[data-root-id]) {\n",
       "  background-color: transparent !important;\n",
       "}\n",
       "</style>"
      ]
     },
     "metadata": {},
     "output_type": "display_data"
    }
   ],
   "source": [
    "import os\n",
    "import numpy as np\n",
    "import random\n",
    "import datetime\n",
    "import seaborn as sns\n",
    "import pandas as pd\n",
    "import yfinance as yf\n",
    "import hvplot.pandas\n",
    "import matplotlib.pyplot as plt\n",
    "import alpaca_trade_api as tradeapi\n",
    "from dotenv import load_dotenv\n",
    "from scipy.interpolate import interp1d\n",
    "from alpaca_trade_api.rest import REST, TimeFrame\n",
    "from sklearn.model_selection import cross_val_score\n",
    "from sklearn.metrics import accuracy_score, precision_score, recall_score\n",
    "from sklearn.metrics import mean_squared_error\n",
    "import pandas_ta as ta\n",
    "from pandas.tseries.offsets import DateOffset\n",
    "from sklearn.preprocessing import StandardScaler\n",
    "\n",
    "\n",
    "# Initialize python files and import functions\n",
    "import stock_data as data\n",
    "import algo_strategy as strategy\n",
    "import nn_models as model\n",
    "import backtesting as backtest\n",
    "import feature_list as feature\n",
    "import utils as visual\n",
    "\n",
    "import warnings\n",
    "warnings.filterwarnings('ignore')\n"
   ]
  },
  {
   "cell_type": "code",
   "execution_count": 2,
   "id": "ee4354d3-1c76-41de-9637-1b5a4ed55dcd",
   "metadata": {
    "tags": []
   },
   "outputs": [
    {
     "data": {
      "text/plain": [
       "True"
      ]
     },
     "execution_count": 2,
     "metadata": {},
     "output_type": "execute_result"
    }
   ],
   "source": [
    "load_dotenv()"
   ]
  },
  {
   "cell_type": "code",
   "execution_count": 3,
   "id": "a11ea335-9732-4e23-9dd5-8dc119aed8d1",
   "metadata": {
    "tags": []
   },
   "outputs": [
    {
     "name": "stderr",
     "output_type": "stream",
     "text": [
      "[*********************100%%**********************]  503 of 503 completed\n"
     ]
    }
   ],
   "source": [
    "# Set API credentials\n",
    "alpaca_api_key = os.getenv(\"ALPACA_API_KEY\")\n",
    "alpaca_secret_key = os.getenv(\"ALPACA_SECRET_KEY\")\n",
    "base_url = 'https://paper-api.alpaca.markets'\n",
    "\n",
    "# ticker list based on monthly highest dollar volume rank(liquidity) \n",
    "tickers_list = data.get_top_tickers(sp500_url = os.getenv(\"SP500_URL\"))\n",
    "tickers = [ticker[1] for ticker in tickers_list]\n",
    "\n",
    "# Call the function to fetch stock data\n",
    "stock_data = data.fetch_stock_data(tickers, alpaca_api_key, alpaca_secret_key, base_url)\n",
    "stock_df = stock_data.dropna()"
   ]
  },
  {
   "cell_type": "code",
   "execution_count": 4,
   "id": "0d147635-01db-4904-bd5a-45654c10ad64",
   "metadata": {
    "tags": []
   },
   "outputs": [
    {
     "name": "stdout",
     "output_type": "stream",
     "text": [
      "['ZTS', 'CRL', 'CHD', 'CHTR', 'CI', 'CLX', 'IPG', 'IP', 'COF', 'COR', 'CTLT', 'CDW', 'CTVA', 'INCY', 'CZR', 'DAY', 'DE', 'DFS', 'DIS', 'DLR', 'CE', 'CDNS', 'HST', 'CMS', 'AMGN', 'AMT', 'AMZN', 'APD', 'KDP', 'K', 'AVY', 'AZO', 'BALL', 'CBRE', 'BAX', 'BDX', 'JBL', 'BIO', 'BKNG', 'ITW', 'IRM', 'CAT', 'ICE', 'DOC', 'DOV', 'GPC', 'FRT', 'FSLR', 'FTNT', 'FTV', 'GEHC', 'GEN', 'GNRC', 'HIG', 'GPN', 'DPZ', 'HES', 'HD', 'HAS', 'HBAN', 'HII', 'HLT', 'HOLX', 'HRL', 'FOXA', 'HPE', 'HPQ', 'FI', 'DUK', 'ECL', 'EFX', 'EG', 'EL', 'HWM', 'EMR']\n"
     ]
    }
   ],
   "source": [
    "print(tickers)"
   ]
  },
  {
   "cell_type": "markdown",
   "id": "8602c5a7-8885-4e99-baae-1e0302f969c3",
   "metadata": {},
   "source": [
    "#### Feauture Engineering - Time series Analysis"
   ]
  },
  {
   "cell_type": "code",
   "execution_count": 5,
   "id": "45e7e7ab-8273-4ce0-9098-8f1bc0c1090b",
   "metadata": {
    "tags": []
   },
   "outputs": [],
   "source": [
    "daily_returns = feature.calculate_pct_change(stock_df)"
   ]
  },
  {
   "cell_type": "code",
   "execution_count": 6,
   "id": "e920e105-df50-46af-8b8f-9b38538f6791",
   "metadata": {
    "tags": []
   },
   "outputs": [],
   "source": [
    "daily_returns_lagged = feature.daily_returns_lagged(stock_df)"
   ]
  },
  {
   "cell_type": "code",
   "execution_count": 7,
   "id": "48cd66bc-415c-423b-8d86-ce9bb7f2391c",
   "metadata": {
    "tags": []
   },
   "outputs": [],
   "source": [
    "cumulative_returns = feature.cumulative_returns(stock_df)"
   ]
  },
  {
   "cell_type": "code",
   "execution_count": 8,
   "id": "f2346ea0-1762-487c-a8e8-38a976cc8f8b",
   "metadata": {
    "tags": []
   },
   "outputs": [],
   "source": [
    "twenty_sma = feature.simple_moving_averge(stock_df)"
   ]
  },
  {
   "cell_type": "code",
   "execution_count": 9,
   "id": "792877d9-b5cd-44f9-897c-316d6d5e2807",
   "metadata": {
    "tags": []
   },
   "outputs": [],
   "source": [
    "sma_ema_long_short = feature.sma_ema_long_short(stock_df)"
   ]
  },
  {
   "cell_type": "code",
   "execution_count": 10,
   "id": "b75b18fb-4bc9-4ed6-8a5a-d1f643c2d947",
   "metadata": {
    "tags": []
   },
   "outputs": [],
   "source": [
    "don_chaian = feature.don_chaian(stock_df)"
   ]
  },
  {
   "cell_type": "code",
   "execution_count": 11,
   "id": "2da56030-4961-4a21-b97e-334445a7afde",
   "metadata": {
    "tags": []
   },
   "outputs": [],
   "source": [
    "standard_deviation = feature.standard_deviation(stock_df)"
   ]
  },
  {
   "cell_type": "code",
   "execution_count": 12,
   "id": "12bff4c1-5102-4253-92a1-0570784ed7fd",
   "metadata": {},
   "outputs": [],
   "source": [
    "Upper_lower_bollinger = feature.calculate_bollinger_bands(stock_df)"
   ]
  },
  {
   "cell_type": "code",
   "execution_count": 13,
   "id": "27fc0ee0-059f-405c-8e28-fc3d9d64b632",
   "metadata": {
    "tags": []
   },
   "outputs": [],
   "source": [
    "weighted_moving_average = feature.weighted_moving_average(stock_df)"
   ]
  },
  {
   "cell_type": "code",
   "execution_count": 14,
   "id": "c9c641d6-5701-426e-9f6c-17a54317e80d",
   "metadata": {},
   "outputs": [],
   "source": [
    "atr = feature.atr(stock_df, n=14)"
   ]
  },
  {
   "cell_type": "code",
   "execution_count": 15,
   "id": "d0cf8ef0-9cae-46c8-8092-0a019e21fc13",
   "metadata": {
    "tags": []
   },
   "outputs": [],
   "source": [
    "commodity_channel_index = feature.commodity_channel_index(stock_df)"
   ]
  },
  {
   "cell_type": "markdown",
   "id": "982b2c3a-facd-40c1-8cf0-9f4a5f097506",
   "metadata": {
    "tags": []
   },
   "source": [
    "### Data Processing and Cleaning"
   ]
  },
  {
   "cell_type": "code",
   "execution_count": 28,
   "id": "59ea2daf-2ce3-47ce-b3f7-6a43dd3cd577",
   "metadata": {
    "tags": []
   },
   "outputs": [
    {
     "data": {
      "text/html": [
       "<div>\n",
       "<style scoped>\n",
       "    .dataframe tbody tr th:only-of-type {\n",
       "        vertical-align: middle;\n",
       "    }\n",
       "\n",
       "    .dataframe tbody tr th {\n",
       "        vertical-align: top;\n",
       "    }\n",
       "\n",
       "    .dataframe thead th {\n",
       "        text-align: right;\n",
       "    }\n",
       "</style>\n",
       "<table border=\"1\" class=\"dataframe\">\n",
       "  <thead>\n",
       "    <tr style=\"text-align: right;\">\n",
       "      <th></th>\n",
       "      <th>symbol</th>\n",
       "      <th>open</th>\n",
       "      <th>high</th>\n",
       "      <th>low</th>\n",
       "      <th>close</th>\n",
       "      <th>volume</th>\n",
       "      <th>Daily Returns</th>\n",
       "      <th>Daily Returns Lagged</th>\n",
       "      <th>Cumulative Returns</th>\n",
       "      <th>SMA</th>\n",
       "      <th>...</th>\n",
       "      <th>EMA Fast</th>\n",
       "      <th>DCL</th>\n",
       "      <th>DCM</th>\n",
       "      <th>DCU</th>\n",
       "      <th>STD</th>\n",
       "      <th>Upper Bollinger Band</th>\n",
       "      <th>Lower Bollinger Band</th>\n",
       "      <th>WMA</th>\n",
       "      <th>ATR</th>\n",
       "      <th>CCI</th>\n",
       "    </tr>\n",
       "    <tr>\n",
       "      <th>timestamp</th>\n",
       "      <th></th>\n",
       "      <th></th>\n",
       "      <th></th>\n",
       "      <th></th>\n",
       "      <th></th>\n",
       "      <th></th>\n",
       "      <th></th>\n",
       "      <th></th>\n",
       "      <th></th>\n",
       "      <th></th>\n",
       "      <th></th>\n",
       "      <th></th>\n",
       "      <th></th>\n",
       "      <th></th>\n",
       "      <th></th>\n",
       "      <th></th>\n",
       "      <th></th>\n",
       "      <th></th>\n",
       "      <th></th>\n",
       "      <th></th>\n",
       "      <th></th>\n",
       "    </tr>\n",
       "  </thead>\n",
       "  <tbody>\n",
       "    <tr>\n",
       "      <th>2016-12-09 05:00:00+00:00</th>\n",
       "      <td>AMGN</td>\n",
       "      <td>141.50</td>\n",
       "      <td>144.58</td>\n",
       "      <td>141.000</td>\n",
       "      <td>143.45</td>\n",
       "      <td>5013557</td>\n",
       "      <td>0.020343</td>\n",
       "      <td>0.016103</td>\n",
       "      <td>0.873683</td>\n",
       "      <td>144.9925</td>\n",
       "      <td>...</td>\n",
       "      <td>155.335153</td>\n",
       "      <td>84.77</td>\n",
       "      <td>126.730</td>\n",
       "      <td>168.69</td>\n",
       "      <td>2.055006</td>\n",
       "      <td>149.102513</td>\n",
       "      <td>140.882487</td>\n",
       "      <td>143.386941</td>\n",
       "      <td>3.145516</td>\n",
       "      <td>190064.350315</td>\n",
       "    </tr>\n",
       "    <tr>\n",
       "      <th>2016-12-12 05:00:00+00:00</th>\n",
       "      <td>AMGN</td>\n",
       "      <td>142.92</td>\n",
       "      <td>146.04</td>\n",
       "      <td>142.790</td>\n",
       "      <td>145.76</td>\n",
       "      <td>3951491</td>\n",
       "      <td>0.016103</td>\n",
       "      <td>0.017906</td>\n",
       "      <td>0.887752</td>\n",
       "      <td>144.8285</td>\n",
       "      <td>...</td>\n",
       "      <td>155.116549</td>\n",
       "      <td>84.77</td>\n",
       "      <td>126.730</td>\n",
       "      <td>168.69</td>\n",
       "      <td>1.833990</td>\n",
       "      <td>148.496480</td>\n",
       "      <td>141.160520</td>\n",
       "      <td>143.861553</td>\n",
       "      <td>3.159447</td>\n",
       "      <td>191900.373323</td>\n",
       "    </tr>\n",
       "    <tr>\n",
       "      <th>2016-12-13 05:00:00+00:00</th>\n",
       "      <td>AMGN</td>\n",
       "      <td>146.83</td>\n",
       "      <td>149.97</td>\n",
       "      <td>146.550</td>\n",
       "      <td>148.37</td>\n",
       "      <td>4651473</td>\n",
       "      <td>0.017906</td>\n",
       "      <td>0.002157</td>\n",
       "      <td>0.903648</td>\n",
       "      <td>144.9260</td>\n",
       "      <td>...</td>\n",
       "      <td>154.962988</td>\n",
       "      <td>84.77</td>\n",
       "      <td>126.730</td>\n",
       "      <td>168.69</td>\n",
       "      <td>1.969853</td>\n",
       "      <td>148.865706</td>\n",
       "      <td>140.986294</td>\n",
       "      <td>144.763242</td>\n",
       "      <td>3.299521</td>\n",
       "      <td>197626.015783</td>\n",
       "    </tr>\n",
       "    <tr>\n",
       "      <th>2016-12-14 05:00:00+00:00</th>\n",
       "      <td>AMGN</td>\n",
       "      <td>148.16</td>\n",
       "      <td>149.55</td>\n",
       "      <td>147.420</td>\n",
       "      <td>148.69</td>\n",
       "      <td>3436687</td>\n",
       "      <td>0.002157</td>\n",
       "      <td>0.011433</td>\n",
       "      <td>0.905597</td>\n",
       "      <td>145.0075</td>\n",
       "      <td>...</td>\n",
       "      <td>154.820627</td>\n",
       "      <td>84.77</td>\n",
       "      <td>126.680</td>\n",
       "      <td>168.59</td>\n",
       "      <td>2.092681</td>\n",
       "      <td>149.192862</td>\n",
       "      <td>140.822138</td>\n",
       "      <td>145.548594</td>\n",
       "      <td>3.143585</td>\n",
       "      <td>197879.474548</td>\n",
       "    </tr>\n",
       "    <tr>\n",
       "      <th>2016-12-15 05:00:00+00:00</th>\n",
       "      <td>AMGN</td>\n",
       "      <td>149.18</td>\n",
       "      <td>150.47</td>\n",
       "      <td>148.780</td>\n",
       "      <td>150.39</td>\n",
       "      <td>3298278</td>\n",
       "      <td>0.011433</td>\n",
       "      <td>-0.006782</td>\n",
       "      <td>0.915951</td>\n",
       "      <td>145.1655</td>\n",
       "      <td>...</td>\n",
       "      <td>154.720367</td>\n",
       "      <td>84.77</td>\n",
       "      <td>126.680</td>\n",
       "      <td>168.59</td>\n",
       "      <td>2.370204</td>\n",
       "      <td>149.905908</td>\n",
       "      <td>140.425092</td>\n",
       "      <td>146.516875</td>\n",
       "      <td>2.961774</td>\n",
       "      <td>199126.637899</td>\n",
       "    </tr>\n",
       "    <tr>\n",
       "      <th>...</th>\n",
       "      <td>...</td>\n",
       "      <td>...</td>\n",
       "      <td>...</td>\n",
       "      <td>...</td>\n",
       "      <td>...</td>\n",
       "      <td>...</td>\n",
       "      <td>...</td>\n",
       "      <td>...</td>\n",
       "      <td>...</td>\n",
       "      <td>...</td>\n",
       "      <td>...</td>\n",
       "      <td>...</td>\n",
       "      <td>...</td>\n",
       "      <td>...</td>\n",
       "      <td>...</td>\n",
       "      <td>...</td>\n",
       "      <td>...</td>\n",
       "      <td>...</td>\n",
       "      <td>...</td>\n",
       "      <td>...</td>\n",
       "      <td>...</td>\n",
       "    </tr>\n",
       "    <tr>\n",
       "      <th>2024-02-22 05:00:00+00:00</th>\n",
       "      <td>ZTS</td>\n",
       "      <td>189.31</td>\n",
       "      <td>196.67</td>\n",
       "      <td>188.540</td>\n",
       "      <td>196.66</td>\n",
       "      <td>3339687</td>\n",
       "      <td>0.043954</td>\n",
       "      <td>0.002797</td>\n",
       "      <td>1.197759</td>\n",
       "      <td>190.9690</td>\n",
       "      <td>...</td>\n",
       "      <td>185.990248</td>\n",
       "      <td>182.07</td>\n",
       "      <td>191.995</td>\n",
       "      <td>201.92</td>\n",
       "      <td>4.384510</td>\n",
       "      <td>199.738019</td>\n",
       "      <td>182.199981</td>\n",
       "      <td>190.640260</td>\n",
       "      <td>4.820727</td>\n",
       "      <td>254866.892124</td>\n",
       "    </tr>\n",
       "    <tr>\n",
       "      <th>2024-02-23 05:00:00+00:00</th>\n",
       "      <td>ZTS</td>\n",
       "      <td>197.35</td>\n",
       "      <td>198.21</td>\n",
       "      <td>194.815</td>\n",
       "      <td>197.21</td>\n",
       "      <td>2391200</td>\n",
       "      <td>0.002797</td>\n",
       "      <td>-0.000862</td>\n",
       "      <td>1.201108</td>\n",
       "      <td>191.4635</td>\n",
       "      <td>...</td>\n",
       "      <td>186.212421</td>\n",
       "      <td>182.07</td>\n",
       "      <td>191.995</td>\n",
       "      <td>201.92</td>\n",
       "      <td>4.507297</td>\n",
       "      <td>200.478095</td>\n",
       "      <td>182.448905</td>\n",
       "      <td>191.954208</td>\n",
       "      <td>4.630630</td>\n",
       "      <td>261675.573923</td>\n",
       "    </tr>\n",
       "    <tr>\n",
       "      <th>2024-02-26 05:00:00+00:00</th>\n",
       "      <td>ZTS</td>\n",
       "      <td>196.90</td>\n",
       "      <td>197.99</td>\n",
       "      <td>195.460</td>\n",
       "      <td>197.04</td>\n",
       "      <td>2098518</td>\n",
       "      <td>-0.000862</td>\n",
       "      <td>0.009947</td>\n",
       "      <td>1.200073</td>\n",
       "      <td>191.7395</td>\n",
       "      <td>...</td>\n",
       "      <td>186.426829</td>\n",
       "      <td>182.07</td>\n",
       "      <td>191.995</td>\n",
       "      <td>201.92</td>\n",
       "      <td>4.676759</td>\n",
       "      <td>201.093019</td>\n",
       "      <td>182.385981</td>\n",
       "      <td>192.971366</td>\n",
       "      <td>4.350546</td>\n",
       "      <td>262145.577281</td>\n",
       "    </tr>\n",
       "    <tr>\n",
       "      <th>2024-02-27 05:00:00+00:00</th>\n",
       "      <td>ZTS</td>\n",
       "      <td>197.65</td>\n",
       "      <td>199.25</td>\n",
       "      <td>194.040</td>\n",
       "      <td>199.00</td>\n",
       "      <td>1984613</td>\n",
       "      <td>0.009947</td>\n",
       "      <td>0.004724</td>\n",
       "      <td>1.212010</td>\n",
       "      <td>192.0515</td>\n",
       "      <td>...</td>\n",
       "      <td>186.675803</td>\n",
       "      <td>182.07</td>\n",
       "      <td>191.995</td>\n",
       "      <td>201.92</td>\n",
       "      <td>4.948663</td>\n",
       "      <td>201.948826</td>\n",
       "      <td>182.154174</td>\n",
       "      <td>194.177093</td>\n",
       "      <td>4.465140</td>\n",
       "      <td>261053.875694</td>\n",
       "    </tr>\n",
       "    <tr>\n",
       "      <th>2024-02-28 05:00:00+00:00</th>\n",
       "      <td>ZTS</td>\n",
       "      <td>199.30</td>\n",
       "      <td>200.50</td>\n",
       "      <td>197.100</td>\n",
       "      <td>199.94</td>\n",
       "      <td>2003263</td>\n",
       "      <td>0.004724</td>\n",
       "      <td>-0.008052</td>\n",
       "      <td>1.217736</td>\n",
       "      <td>192.4770</td>\n",
       "      <td>...</td>\n",
       "      <td>186.938460</td>\n",
       "      <td>182.07</td>\n",
       "      <td>191.285</td>\n",
       "      <td>200.50</td>\n",
       "      <td>5.249146</td>\n",
       "      <td>202.975293</td>\n",
       "      <td>181.978707</td>\n",
       "      <td>195.329674</td>\n",
       "      <td>4.323121</td>\n",
       "      <td>264510.721216</td>\n",
       "    </tr>\n",
       "  </tbody>\n",
       "</table>\n",
       "<p>146735 rows × 22 columns</p>\n",
       "</div>"
      ],
      "text/plain": [
       "                          symbol    open    high      low   close   volume  \\\n",
       "timestamp                                                                    \n",
       "2016-12-09 05:00:00+00:00   AMGN  141.50  144.58  141.000  143.45  5013557   \n",
       "2016-12-12 05:00:00+00:00   AMGN  142.92  146.04  142.790  145.76  3951491   \n",
       "2016-12-13 05:00:00+00:00   AMGN  146.83  149.97  146.550  148.37  4651473   \n",
       "2016-12-14 05:00:00+00:00   AMGN  148.16  149.55  147.420  148.69  3436687   \n",
       "2016-12-15 05:00:00+00:00   AMGN  149.18  150.47  148.780  150.39  3298278   \n",
       "...                          ...     ...     ...      ...     ...      ...   \n",
       "2024-02-22 05:00:00+00:00    ZTS  189.31  196.67  188.540  196.66  3339687   \n",
       "2024-02-23 05:00:00+00:00    ZTS  197.35  198.21  194.815  197.21  2391200   \n",
       "2024-02-26 05:00:00+00:00    ZTS  196.90  197.99  195.460  197.04  2098518   \n",
       "2024-02-27 05:00:00+00:00    ZTS  197.65  199.25  194.040  199.00  1984613   \n",
       "2024-02-28 05:00:00+00:00    ZTS  199.30  200.50  197.100  199.94  2003263   \n",
       "\n",
       "                           Daily Returns  Daily Returns Lagged  \\\n",
       "timestamp                                                        \n",
       "2016-12-09 05:00:00+00:00       0.020343              0.016103   \n",
       "2016-12-12 05:00:00+00:00       0.016103              0.017906   \n",
       "2016-12-13 05:00:00+00:00       0.017906              0.002157   \n",
       "2016-12-14 05:00:00+00:00       0.002157              0.011433   \n",
       "2016-12-15 05:00:00+00:00       0.011433             -0.006782   \n",
       "...                                  ...                   ...   \n",
       "2024-02-22 05:00:00+00:00       0.043954              0.002797   \n",
       "2024-02-23 05:00:00+00:00       0.002797             -0.000862   \n",
       "2024-02-26 05:00:00+00:00      -0.000862              0.009947   \n",
       "2024-02-27 05:00:00+00:00       0.009947              0.004724   \n",
       "2024-02-28 05:00:00+00:00       0.004724             -0.008052   \n",
       "\n",
       "                           Cumulative Returns       SMA  ...    EMA Fast  \\\n",
       "timestamp                                                ...               \n",
       "2016-12-09 05:00:00+00:00            0.873683  144.9925  ...  155.335153   \n",
       "2016-12-12 05:00:00+00:00            0.887752  144.8285  ...  155.116549   \n",
       "2016-12-13 05:00:00+00:00            0.903648  144.9260  ...  154.962988   \n",
       "2016-12-14 05:00:00+00:00            0.905597  145.0075  ...  154.820627   \n",
       "2016-12-15 05:00:00+00:00            0.915951  145.1655  ...  154.720367   \n",
       "...                                       ...       ...  ...         ...   \n",
       "2024-02-22 05:00:00+00:00            1.197759  190.9690  ...  185.990248   \n",
       "2024-02-23 05:00:00+00:00            1.201108  191.4635  ...  186.212421   \n",
       "2024-02-26 05:00:00+00:00            1.200073  191.7395  ...  186.426829   \n",
       "2024-02-27 05:00:00+00:00            1.212010  192.0515  ...  186.675803   \n",
       "2024-02-28 05:00:00+00:00            1.217736  192.4770  ...  186.938460   \n",
       "\n",
       "                              DCL      DCM     DCU       STD  \\\n",
       "timestamp                                                      \n",
       "2016-12-09 05:00:00+00:00   84.77  126.730  168.69  2.055006   \n",
       "2016-12-12 05:00:00+00:00   84.77  126.730  168.69  1.833990   \n",
       "2016-12-13 05:00:00+00:00   84.77  126.730  168.69  1.969853   \n",
       "2016-12-14 05:00:00+00:00   84.77  126.680  168.59  2.092681   \n",
       "2016-12-15 05:00:00+00:00   84.77  126.680  168.59  2.370204   \n",
       "...                           ...      ...     ...       ...   \n",
       "2024-02-22 05:00:00+00:00  182.07  191.995  201.92  4.384510   \n",
       "2024-02-23 05:00:00+00:00  182.07  191.995  201.92  4.507297   \n",
       "2024-02-26 05:00:00+00:00  182.07  191.995  201.92  4.676759   \n",
       "2024-02-27 05:00:00+00:00  182.07  191.995  201.92  4.948663   \n",
       "2024-02-28 05:00:00+00:00  182.07  191.285  200.50  5.249146   \n",
       "\n",
       "                           Upper Bollinger Band  Lower Bollinger Band  \\\n",
       "timestamp                                                               \n",
       "2016-12-09 05:00:00+00:00            149.102513            140.882487   \n",
       "2016-12-12 05:00:00+00:00            148.496480            141.160520   \n",
       "2016-12-13 05:00:00+00:00            148.865706            140.986294   \n",
       "2016-12-14 05:00:00+00:00            149.192862            140.822138   \n",
       "2016-12-15 05:00:00+00:00            149.905908            140.425092   \n",
       "...                                         ...                   ...   \n",
       "2024-02-22 05:00:00+00:00            199.738019            182.199981   \n",
       "2024-02-23 05:00:00+00:00            200.478095            182.448905   \n",
       "2024-02-26 05:00:00+00:00            201.093019            182.385981   \n",
       "2024-02-27 05:00:00+00:00            201.948826            182.154174   \n",
       "2024-02-28 05:00:00+00:00            202.975293            181.978707   \n",
       "\n",
       "                                  WMA       ATR            CCI  \n",
       "timestamp                                                       \n",
       "2016-12-09 05:00:00+00:00  143.386941  3.145516  190064.350315  \n",
       "2016-12-12 05:00:00+00:00  143.861553  3.159447  191900.373323  \n",
       "2016-12-13 05:00:00+00:00  144.763242  3.299521  197626.015783  \n",
       "2016-12-14 05:00:00+00:00  145.548594  3.143585  197879.474548  \n",
       "2016-12-15 05:00:00+00:00  146.516875  2.961774  199126.637899  \n",
       "...                               ...       ...            ...  \n",
       "2024-02-22 05:00:00+00:00  190.640260  4.820727  254866.892124  \n",
       "2024-02-23 05:00:00+00:00  191.954208  4.630630  261675.573923  \n",
       "2024-02-26 05:00:00+00:00  192.971366  4.350546  262145.577281  \n",
       "2024-02-27 05:00:00+00:00  194.177093  4.465140  261053.875694  \n",
       "2024-02-28 05:00:00+00:00  195.329674  4.323121  264510.721216  \n",
       "\n",
       "[146735 rows x 22 columns]"
      ]
     },
     "execution_count": 28,
     "metadata": {},
     "output_type": "execute_result"
    }
   ],
   "source": [
    "# Drop NAN values\n",
    "stock_df.dropna(inplace=True)\n",
    "stock_df\n"
   ]
  },
  {
   "cell_type": "markdown",
   "id": "8955ed4c-da46-4ab8-bf3f-8326706301a6",
   "metadata": {},
   "source": [
    "### Algorithim Buy/Sell  Best signal selection"
   ]
  },
  {
   "cell_type": "code",
   "execution_count": null,
   "id": "75caddf9-4c0e-4864-b45a-c5a2c3825c87",
   "metadata": {
    "tags": []
   },
   "outputs": [],
   "source": [
    "# Initialize Signals \n",
    "signals = {\n",
    "    \"signal_one\": strategy.simple_momentum(stock_data),\n",
    "    \"signal_two\": strategy.dmac_strategy(stock_data),\n",
    "    \"signal_three\": strategy.finta_strategy(stock_data)}\n",
    "\n",
    "# Function for simple winning trading strategy \n",
    "def simple_winning(signals):\n",
    "    best_strategy = max(signals, key=signals.get)\n",
    "    winning_signal = signals[best_strategy]\n",
    "    return winning_signal\n",
    "\n",
    "# Function for strategy that combines signals using a majority vote\n",
    "def majority_vote(signals):\n",
    "    buy_signal = sum(1 for signal in signals.values() if signal == 1)    # \"Buy\"\n",
    "    sell_signal = sum(1 for signal in signals.values() if signal == -1)  # \"Sell\"\n",
    "    return 1 if buy_signal > sell_signal else -1 if sell_signal > buy_signal else 0  # \"Buy\", \"Sell\", or \"Hold\"\n",
    "\n",
    "# Add signals to stock_df\n",
    "stock_df['Majority_vote'] = majority_vote(signals)\n",
    "stock_df['Simple_winning'] = simple_winning_(signals)\n",
    "\n",
    "# Plot winning signal and hybrid\n"
   ]
  },
  {
   "cell_type": "code",
   "execution_count": null,
   "id": "f68898c7-11f3-4b40-a3dc-286dded32641",
   "metadata": {},
   "outputs": [],
   "source": []
  },
  {
   "cell_type": "markdown",
   "id": "991fa4b1-dcd2-4069-82eb-a8a59eab7946",
   "metadata": {},
   "source": [
    "### PCA - dimension reduction"
   ]
  },
  {
   "cell_type": "code",
   "execution_count": null,
   "id": "a92b0895-8d51-4d8f-a57e-1bed7e2d6cb6",
   "metadata": {},
   "outputs": [],
   "source": []
  },
  {
   "cell_type": "markdown",
   "id": "bb3f227f-e712-478a-b79e-70a3b3273f6e",
   "metadata": {},
   "source": [
    "### Train Test Split (Dateoffset)"
   ]
  },
  {
   "cell_type": "code",
   "execution_count": null,
   "id": "88e2b870-30b4-402c-ae5c-116ea2411cc6",
   "metadata": {},
   "outputs": [],
   "source": [
    "# Select the start of the training period\n",
    "training_begin = X.index.min()\n",
    "\n",
    "# Select the ending period for the training data with an offset of 5.6 years\n",
    "training_end = X.index.min() + DateOffset(months=68)\n",
    "\n",
    "# Generate the X_train and y_train DataFrames\n",
    "X_train = X.loc[training_begin:training_end]\n",
    "y_train = y.loc[training_begin:training_end]\n",
    "X_train\n",
    "\n",
    "# Generate the X_test and y_test DataFrames\n",
    "test_begin = training_end + DateOffset(months=29)\n",
    "X_test = X.loc[test_begin:]\n",
    "y_test = y.loc[test_begin:]\n",
    "\n",
    "X_test\n"
   ]
  },
  {
   "cell_type": "markdown",
   "id": "d30b2180-a18b-4e22-b8cf-86b71e4a591d",
   "metadata": {},
   "source": [
    "### Standardize The Data"
   ]
  },
  {
   "cell_type": "code",
   "execution_count": null,
   "id": "eb27ab1d-3958-4e36-b9d2-feb58398325e",
   "metadata": {},
   "outputs": [],
   "source": [
    "# Create a StandardScaler instance\n",
    "scaler = StandardScaler()\n",
    " \n",
    "# Apply the scaler model to fit the X-train data\n",
    "X_scaler = scaler.fit(X_train)\n",
    " \n",
    "# Transform the X_train and X_test DataFrames using the X_scaler\n",
    "X_train_scaled = X_scaler.transform(X_train)\n",
    "X_test_scaled = X_scaler.transform(X_test)"
   ]
  },
  {
   "cell_type": "markdown",
   "id": "e68277bd-9711-49eb-971d-0ae724e08337",
   "metadata": {},
   "source": [
    "### Machine Learning Best Model Selection"
   ]
  },
  {
   "cell_type": "code",
   "execution_count": null,
   "id": "238a71bd-c684-479f-a5f7-af13110a32fb",
   "metadata": {
    "tags": []
   },
   "outputs": [],
   "source": [
    "# Initialize Models\n",
    "models = {\n",
    "    \"model_one\": model.lstm_model(),\n",
    "    \"model_two\": model.lr_model(),\n",
    "    \"model_three\": model.random_tree() }\n",
    "\n",
    "def select_best_model(models, X_train, y_train):\n",
    "    # Define initial best score and best model\n",
    "    best_model_name = None\n",
    "    best_model = None\n",
    "    best_accuracy = 0.0\n",
    "    best_mse = float('inf')\n",
    "    all_scores = {}\n",
    "    all_mses = {}\n",
    "    \n",
    "    # Define the scoring metrics you want to use\n",
    "    scoring = ['accuracy', 'precision', 'recall', 'f1_score']\n",
    "    \n",
    "    # Train and evaluate each model using cross-validation\n",
    "    for name, model in models.items():\n",
    "       \n",
    "        metric_scores = {}\n",
    "        \n",
    "        # Evaluate model using cross-validation for each scoring metric\n",
    "        for metric in scoring:\n",
    "            scores = cross_val_score(model, X_train, y_train, cv=3, scoring=metric)\n",
    "            \n",
    "            metric_scores[metric] = scores\n",
    "            \n",
    "        # Calculate the mean scores\n",
    "        mean_scores = {metric: scores.mean() for metric, scores in metric_scores.items()}\n",
    "        mse_scores = -cross_val_score(model, X_train, y_train, cv=5, scoring='neg_mean_squared_error')\n",
    "        mean_mse = mse_scores.mean()\n",
    "        \n",
    "        # Store the scores for the current model\n",
    "        all_scores[name] = metric_scores\n",
    "        all_mses[name] = mse_scores\n",
    "        \n",
    "        # Update best model if current model performs better based on accuracy or MSE\n",
    "        if mean_mse < best_mse or (mean_mse == best_mse and mean_scores['precision'] > best_accuracy):\n",
    "            best_accuracy = mean_scores['precision']\n",
    "            best_mse = mean_mse\n",
    "            best_model_name = name\n",
    "            best_model = model\n",
    "    \n",
    "    return best_model_name, best_model, all_scores, all_mses\n",
    "\n",
    "best_model_name, best_model, all_scores, all_mses = select_best_model(models, X_train, y_train)\n"
   ]
  },
  {
   "cell_type": "markdown",
   "id": "58d8e77d-ec8b-40fd-b635-d171d51d3a1e",
   "metadata": {},
   "source": [
    "### Backtesting - Trained Model against Test Model "
   ]
  },
  {
   "cell_type": "code",
   "execution_count": null,
   "id": "d6a41f40-ec4c-4d36-aef3-262c6947bf0a",
   "metadata": {
    "tags": []
   },
   "outputs": [],
   "source": [
    "\n",
    "\n",
    "# Print the selected best model name\n",
    "print(\"Selected Best Model:\", best_model_name)\n",
    "\n",
    "# Print the cross-validation scores for each model and each metric\n",
    "for name, scores in all_scores.items():\n",
    "    print(\"Model:\", name)\n",
    "    for metric, metric_scores in scores.items():\n",
    "        print(f\"Mean {metric.capitalize()} Score:\", metric_scores.mean())\n",
    "\n",
    "# Print the cross-validation MSE scores for each model\n",
    "for name, mse_scores in all_mses.items():\n",
    "    print(\"Model:\", name)\n",
    "    print(\"Cross-Validation MSE Scores:\", mse_scores)\n",
    "\n",
    "# Use the trained model to predict the trading signals for the testing data.\n",
    "testing_signal_predictions = svm_model.predict(X_test_scaled)\n",
    "\n",
    "# Evaluate the model's ability to predict the trading signal for the testing data\n",
    "testing_report = classification_report(y_test, testing_signal_predictions)"
   ]
  },
  {
   "cell_type": "code",
   "execution_count": null,
   "id": "6f8e6f92-1f0f-437d-b071-446f3ec0b5c2",
   "metadata": {
    "tags": []
   },
   "outputs": [],
   "source": [
    "# Display the report\n",
    "print(testing_report)\n",
    "\n",
    "# Visually Compare the Actual and Predicted Returns\n",
    "# Create a predictions DataFrame\n",
    "predictions_df = pd.DataFrame(index=X_test.index)\n",
    "\n",
    "predictions_df[\"predicted_signal\"] = testing_signal_predictions\n",
    "\n",
    "predictions_df[\"actual_returns\"] = trading_df[\"actual_returns\"]\n",
    "\n",
    "predictions_df[\"trading_algorithm_returns\"] = (\n",
    "    predictions_df[\"actual_returns\"] * predictions_df[\"predicted_signal\"]\n",
    ")\n",
    "\n",
    "# Review the DataFrame\n",
    "predictions_df.head()"
   ]
  },
  {
   "cell_type": "code",
   "execution_count": null,
   "id": "96925772-e46b-4889-8d74-0f4a8a9441b5",
   "metadata": {
    "tags": []
   },
   "outputs": [],
   "source": []
  },
  {
   "cell_type": "markdown",
   "id": "140285e9-7535-41d8-9ed2-623347072f1c",
   "metadata": {},
   "source": [
    "### Fundamental Analysis (Predictions and Plotting)"
   ]
  },
  {
   "cell_type": "code",
   "execution_count": null,
   "id": "7d008fa4-c069-4d9c-af14-732d352c19a4",
   "metadata": {},
   "outputs": [],
   "source": [
    " Import required libraries\n",
    "import pandas as pd\n",
    "import numpy as np\n",
    "import hvplot.pandas\n",
    "from pathlib import Path\n",
    "\n",
    "# Setting these options will allow for reviewing more of the DataFrames\n",
    "pd.set_option(\"display.max_rows\", 2000)\n",
    "pd.set_option(\"display.max_columns\", 2000)\n",
    "pd.set_option(\"display.width\", 1000)\n",
    "# Read in CSV file in from the resources folder into a Pandas DataFrame\n",
    "# Set the date as the DateTimeIndex\n",
    "NVDA = pd.read_csv(\n",
    "    Path(\"../Resources/META.csv\"),\n",
    "    parse_dates = True, \n",
    "    infer_datetime_format = True\n",
    ")\n",
    "\n",
    "# Review the DataFrame\n",
    "META.head()\n",
    "# Plot the DataFrame with hvplot[\"close\"].hvplot()\n",
    "META[\"Close\"].hvplot\n",
    "#COMPARE the SMA 50 plot line to an EMA50 plot line \n",
    "# Create a DataFrame with the index and Close column from the dataset\n",
    "signals_df = META.loc[:, [\"Close\"]].copy()\n",
    "\n",
    "# Set the short window and long windows\n",
    "short_window = 50\n",
    "\n",
    "# Create a short window SMA\n",
    "signals_df[\"SMA50\"] = signals_df[\"Close\"].rolling(window=short_window).mean()\n",
    "\n",
    "# Create a short window EMA\n",
    "signals_df[\"EMA50\"] = signals_df[\"Close\"].ewm(span=short_window).mean()\n",
    "\n",
    "# Review the DataFrame\n",
    "signals_df.iloc[45:55, :]\n",
    "#PLOT\n",
    "# Visualize close price for the investment\n",
    "security_close = signals_df[[\"Close\"]].hvplot(\n",
    "    line_color='Blue',\n",
    "    ylabel='Price in $',\n",
    "    width=1000,\n",
    "    height=400\n",
    ")\n",
    "\n",
    "# Visualize moving averages\n",
    "moving_avgs = signals_df[[\"SMA50\", \"EMA50\"]].hvplot(\n",
    "    ylabel='Price in $',\n",
    "    width=1000,\n",
    "    height=400\n",
    ")\n",
    "\n",
    "# Overlay plots\n",
    "sma_ema_plot = security_close * moving_avgs\n",
    "sma_ema_plot\n",
    "\n",
    "#CREATE A TRADING ALGO!!!!!!\n",
    "# Create a DataFrame with the index and Close column from the dataset\n",
    "ema_signals_df = META.loc[:, [\"Close\"]].copy()\n",
    "\n",
    "# Set the short window and long windows\n",
    "short_window = 50\n",
    "long_window = 100\n",
    "\n",
    "# Generate the short and long moving averages (50 and 100 days, respectively)\n",
    "ema_signals_df[\"EMA50\"] = signals_df[\"Close\"].ewm(span=short_window).mean()\n",
    "ema_signals_df[\"EMA100\"] = signals_df[\"Close\"].ewm(span=long_window).mean()\n",
    "\n",
    "# Review the DataFrame\n",
    "ema_signals_df.head()\n",
    "# Set the Signal column\n",
    "ema_signals_df[\"Signal\"] = 0.0\n",
    "\n",
    "# Generate the trading signal 1 or 0,\n",
    "# where 1 is when the EMA50 is greater than (or crosses over) the EMA100\n",
    "# where 0 is when the EMA50 is under the EMA100\n",
    "ema_signals_df[\"Signal\"][short_window:] = np.where(\n",
    "    ema_signals_df[\"EMA50\"][short_window:] > ema_signals_df[\"EMA100\"][short_window:], 1.0, 0.0\n",
    ")\n",
    "\n",
    "# Calculate the points in time at which a position should be taken, 1 or -1\n",
    "ema_signals_df[\"Entry/Exit\"] = ema_signals_df[\"Signal\"].diff()\n",
    "\n",
    "# Review the DataFrame\n",
    "ema_signals_df.head()\n",
    "#PLOT!!!!!!\n",
    "# Visualize entry position relative to close price\n",
    "entry = ema_signals_df[ema_signals_df[\"Entry/Exit\"] == 1.0][\"Close\"].hvplot.scatter(\n",
    "    color='Blue',\n",
    "    marker='^',\n",
    "    size=200,\n",
    "    legend=False,\n",
    "    ylabel='Price in $',\n",
    "    xlabel= 'date',\n",
    "    width=1000,\n",
    "    height=400\n",
    ")\n",
    "\n",
    "# Visualize exit position relative to close price\n",
    "exit = ema_signals_df[ema_signals_df[\"Entry/Exit\"] == -1.0][\"Close\"].hvplot.scatter(\n",
    "    color='Green',\n",
    "    marker='v',\n",
    "    size=200,\n",
    "    legend=False,\n",
    "    ylabel='Price in $',\n",
    "    width=1000,\n",
    "    height=400\n",
    ")\n",
    "\n",
    "# Visualize close price for the investment\n",
    "security_close = ema_signals_df[[\"Close\"]].hvplot(\n",
    "    line_color='Blue',\n",
    "    ylabel='Price in $',\n",
    "    width=1000,\n",
    "    height=400\n",
    ")\n",
    "\n",
    "# Visualize moving averages\n",
    "moving_avgs = ema_signals_df[[\"EMA50\", \"EMA100\"]].hvplot(\n",
    "    ylabel='Price in $',\n",
    "    width=1000,\n",
    "    height=400\n",
    ")\n",
    "\n",
    "# Overlay plots\n",
    "entry_exit_plot = security_close * moving_avgs * entry * exit\n",
    "entry_exit_plot\n",
    "\n",
    "#INCORPORATE THE FINTA PYTHON LIBRARY into the DMAC trading ALGORITHM \n",
    "# Import the finta library\n",
    "from finta import TA\n",
    "# Read in CSV file in from the resources folder into a Pandas DataFrame\n",
    "# Set the date as the DateTimeIndex\n",
    "NVDA_df= pd.read_csv(\n",
    "    Path(\"../Resources/META.csv\"),\n",
    "    \n",
    "    parse_dates = True, \n",
    "    infer_datetime_format = True\n",
    ")\n",
    "\n",
    "# Review the DataFrame\n",
    "META_df.head()\n",
    "#Generate the EMA Technical Indicator using FinTA\n",
    "# Set the short window and long windows\n",
    "short_window = 50\n",
    "long_window = 100\n",
    "\n",
    "# Add the EMA technical indicators for the short and long windows\n",
    "META_df[\"Short\"] = TA.EMA(NVDA_df, short_window)\n",
    "META_df[\"Long\"] = TA.EMA(NVDA_df, long_window)\n",
    "\n",
    "# Review the DataFrame\n",
    "META.iloc[45:105, :]\n",
    "# Set the Signal column\n",
    "META_df[\"Signal\"] = 0.0\n",
    "\n",
    "# Generate the trading signal 1 or 0,\n",
    "# where 1 is when the Short window is greater than (or crosses over) the Long Window\n",
    "# where 0 is when the Short window is under the Long window\n",
    "META_df[\"Signal\"][short_window:] = np.where(\n",
    "    META_df[\"Short\"][short_window:] > NVDA_df[\"Long\"][short_window:], 1.0, 0.0\n",
    ")\n",
    "\n",
    "# Calculate the points in time at which a position should be taken, 1 or -1\n",
    "META_df[\"Entry/Exit\"] = META_df[\"Signal\"].diff()\n",
    "\n",
    "# Review the DataFrame\n",
    "META_df.iloc[95:105, :]\n",
    "# Visualize entry position relative to close price\n",
    "entry = META_df[META_df[\"Entry/Exit\"] == 1.0][\"Close\"].hvplot.scatter(\n",
    "    color=\"purple\",\n",
    "    marker=\"^\",\n",
    "    size=200,\n",
    "    legend=False,\n",
    "    ylabel=\"Price in $\",\n",
    "    width=1000,\n",
    "    height=400\n",
    ")\n",
    "\n",
    "# Visualize exit position relative to close price\n",
    "exit = NVDA_df[NVDA_df[\"Entry/Exit\"] == -1.0][\"Close\"].hvplot.scatter(\n",
    "    color=\"orange\",\n",
    "    marker=\"v\",\n",
    "    size=200,\n",
    "    legend=False,\n",
    "    ylabel=\"Price in $\",\n",
    "    width=1000,\n",
    "    height=400\n",
    ")\n",
    "\n",
    "# Visualize close price for the investment\n",
    "security_close = META_df[[\"Close\"]].hvplot(\n",
    "    line_color=\"Yellow\",\n",
    "    ylabel=\"Price in $\",\n",
    "    width=1000,\n",
    "    height=400\n",
    ")\n",
    "\n",
    "# Visualize moving averages\n",
    "moving_avgs = META_df[[\"Short\", \"Long\"]].hvplot(\n",
    "    ylabel=\"Price in $\",\n",
    "    width=1000,\n",
    "    height=400\n",
    ")\n",
    "\n",
    "# Overlay plots\n",
    "entry_exit_plot = security_close * moving_avgs * entry * exit\n",
    "entry_exit_plot\n",
    "\n",
    "\n",
    "\n",
    "\n",
    " \n",
    "\n",
    "\n",
    "\n",
    "\n",
    "\n",
    "\n",
    "\n",
    "\n"
   ]
  },
  {
   "cell_type": "code",
   "execution_count": null,
   "id": "08fb3f5a-97a1-4f45-aab7-ab25459cbb4c",
   "metadata": {
    "tags": []
   },
   "outputs": [],
   "source": [
    "stock_df[['Daily Returns Lagged', 'Daily Returns']].corr()\n",
    "\n",
    "# maybe not to use lagged strategy \n",
    "# consider DMAC? "
   ]
  },
  {
   "cell_type": "code",
   "execution_count": null,
   "id": "4391d198-a3cd-45d7-86e6-d9701bc4ac96",
   "metadata": {},
   "outputs": [],
   "source": []
  },
  {
   "cell_type": "code",
   "execution_count": null,
   "id": "5d79dfdb-654c-44ce-87be-451ffd7d601a",
   "metadata": {
    "tags": []
   },
   "outputs": [],
   "source": [
    "stock_df['Cumulative Returns'].plot()"
   ]
  },
  {
   "cell_type": "code",
   "execution_count": null,
   "id": "5d56b6cc-3d36-4d96-b37b-a81bfbb3aa6b",
   "metadata": {
    "tags": []
   },
   "outputs": [],
   "source": []
  },
  {
   "cell_type": "code",
   "execution_count": null,
   "id": "354d2781-14c4-4fff-91a5-807fa22cf132",
   "metadata": {},
   "outputs": [],
   "source": []
  },
  {
   "cell_type": "markdown",
   "id": "6a57c93c-3257-45bd-ba0a-be7eae065da7",
   "metadata": {},
   "source": [
    "### Risk management and Rewards"
   ]
  },
  {
   "cell_type": "code",
   "execution_count": null,
   "id": "b561ed48-47ca-4d1c-b585-47f0a9fe195f",
   "metadata": {},
   "outputs": [],
   "source": []
  },
  {
   "cell_type": "markdown",
   "id": "0c1911c0-4920-456e-832c-08b3fb981035",
   "metadata": {},
   "source": [
    "#### Notes: \n",
    "- This notebook is for educational and experimental purposes only."
   ]
  }
 ],
 "metadata": {
  "kernelspec": {
   "display_name": "Python 3 (ipykernel)",
   "language": "python",
   "name": "python3"
  },
  "language_info": {
   "codemirror_mode": {
    "name": "ipython",
    "version": 3
   },
   "file_extension": ".py",
   "mimetype": "text/x-python",
   "name": "python",
   "nbconvert_exporter": "python",
   "pygments_lexer": "ipython3",
   "version": "3.10.13"
  }
 },
 "nbformat": 4,
 "nbformat_minor": 5
}
