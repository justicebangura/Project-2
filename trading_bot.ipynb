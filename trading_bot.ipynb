{
 "cells": [
  {
   "cell_type": "markdown",
   "id": "fc6cb2f3-dc4d-48f0-9028-1497b8a4c811",
   "metadata": {
    "tags": []
   },
   "source": [
    "# The Ultimate Algo Trader (Neurobot 1.0)"
   ]
  },
  {
   "cell_type": "markdown",
   "id": "7fa19c1e-f6ae-4b31-a8f2-25d7451006b6",
   "metadata": {},
   "source": [
    "## Introduction:\n",
    "This jupyter notebook contains code for developing and testing a dynamic algorithmic trader based on Python and Machine learning strategy."
   ]
  },
  {
   "cell_type": "markdown",
   "id": "c433b8e2-525a-43d9-98d9-62a8302ecc32",
   "metadata": {},
   "source": [
    "## Steps:\n",
    "1. **Data preperation**: Access historical market data via Alpaca API and preprocess it for analysis.\n",
    "2. **Strategy creation**: Code algorithmic trading strategy based on \"TBD\".\n",
    "3. **Backtesting-Optimization**: Backtest the strategy using historical data and fine-tune parameters for better performance.\n",
    "4. **Risk/Reward**: Calculate both the risk and the reward based on the entry price, position size, stop-loss and target price\n",
    "5. **live Trading(Optional)**: Implement the strategy for paper trading on Alpaca.\n",
    "\n",
    "**Tools and Libaries** \n",
    "- Python, Pandas, Numpy, \"TBD\""
   ]
  },
  {
   "cell_type": "markdown",
   "id": "0c1911c0-4920-456e-832c-08b3fb981035",
   "metadata": {},
   "source": [
    "#### Notes: \n",
    "- This notebook is for educational and experimental purposes only."
   ]
  },
  {
   "cell_type": "markdown",
   "id": "9d926644-3b5c-4ae6-838a-8be48b67a188",
   "metadata": {},
   "source": [
    "### Imports and Dependencies"
   ]
  },
  {
   "cell_type": "code",
   "execution_count": 6,
   "id": "5401f047-42e2-4415-b714-23358181c181",
   "metadata": {
    "tags": []
   },
   "outputs": [],
   "source": [
    "import os\n",
    "import numpy as np\n",
    "import random\n",
    "import seaborn as sns\n",
    "import pandas as pd\n",
    "import yfinance as yf\n",
    "import hvplot.pandas\n",
    "import matplotlib.pyplot as plt\n",
    "import alpaca_trade_api as tradeapi\n",
    "from dotenv import load_dotenv\n",
    "from scipy.interpolate import interp1d\n",
    "from alpaca_trade_api.rest import REST, TimeFrame\n",
    "\n",
    "# Initialize python files to import functions\n",
    "import stock_data as data\n",
    "import algo_strategy as strategy\n",
    "import nn_models as model\n",
    "import backtesting as backtest\n",
    "\n",
    "import warnings\n",
    "warnings.filterwarnings('ignore')\n"
   ]
  },
  {
   "cell_type": "code",
   "execution_count": 7,
   "id": "ee4354d3-1c76-41de-9637-1b5a4ed55dcd",
   "metadata": {
    "tags": []
   },
   "outputs": [
    {
     "data": {
      "text/plain": [
       "True"
      ]
     },
     "execution_count": 7,
     "metadata": {},
     "output_type": "execute_result"
    }
   ],
   "source": [
    "load_dotenv()"
   ]
  },
  {
   "cell_type": "markdown",
   "id": "982b2c3a-facd-40c1-8cf0-9f4a5f097506",
   "metadata": {},
   "source": [
    "### Data Processing and collection"
   ]
  },
  {
   "cell_type": "code",
   "execution_count": 8,
   "id": "0c808699-fd67-4fee-82d1-ee49b886b645",
   "metadata": {
    "tags": []
   },
   "outputs": [],
   "source": [
    "# Fetch list of tickers\n",
    "# Get select top picks based on monthly highest performing stocks in sp500 \n",
    "#ticker_list = data.get_clusters_from_sp500(sp500_url = os.getenv(\"SP500_URL\"))\n",
    "\n",
    "# fetch_stock_data based on top picks from cluster\n",
    "stock_data = data.fetch_stock_data('2018-01-12', '2024-03-14', tickers= ['NVDA'], timeframe='1Day')"
   ]
  },
  {
   "cell_type": "code",
   "execution_count": 9,
   "id": "59ea2daf-2ce3-47ce-b3f7-6a43dd3cd577",
   "metadata": {
    "tags": []
   },
   "outputs": [
    {
     "data": {
      "text/html": [
       "<div>\n",
       "<style scoped>\n",
       "    .dataframe tbody tr th:only-of-type {\n",
       "        vertical-align: middle;\n",
       "    }\n",
       "\n",
       "    .dataframe tbody tr th {\n",
       "        vertical-align: top;\n",
       "    }\n",
       "\n",
       "    .dataframe thead tr th {\n",
       "        text-align: left;\n",
       "    }\n",
       "\n",
       "    .dataframe thead tr:last-of-type th {\n",
       "        text-align: right;\n",
       "    }\n",
       "</style>\n",
       "<table border=\"1\" class=\"dataframe\">\n",
       "  <thead>\n",
       "    <tr>\n",
       "      <th></th>\n",
       "      <th colspan=\"4\" halign=\"left\">NVDA</th>\n",
       "      <th>Daily Returns</th>\n",
       "    </tr>\n",
       "    <tr>\n",
       "      <th></th>\n",
       "      <th>open</th>\n",
       "      <th>close</th>\n",
       "      <th>high</th>\n",
       "      <th>volume</th>\n",
       "      <th></th>\n",
       "    </tr>\n",
       "    <tr>\n",
       "      <th>timestamp</th>\n",
       "      <th></th>\n",
       "      <th></th>\n",
       "      <th></th>\n",
       "      <th></th>\n",
       "      <th></th>\n",
       "    </tr>\n",
       "  </thead>\n",
       "  <tbody>\n",
       "    <tr>\n",
       "      <th>2018-01-16</th>\n",
       "      <td>224.050</td>\n",
       "      <td>220.11</td>\n",
       "      <td>227.51</td>\n",
       "      <td>17986928</td>\n",
       "      <td>-0.011892</td>\n",
       "    </tr>\n",
       "    <tr>\n",
       "      <th>2018-01-17</th>\n",
       "      <td>220.700</td>\n",
       "      <td>224.72</td>\n",
       "      <td>225.12</td>\n",
       "      <td>13942387</td>\n",
       "      <td>0.020944</td>\n",
       "    </tr>\n",
       "    <tr>\n",
       "      <th>2018-01-18</th>\n",
       "      <td>223.940</td>\n",
       "      <td>224.44</td>\n",
       "      <td>226.64</td>\n",
       "      <td>10756754</td>\n",
       "      <td>-0.001246</td>\n",
       "    </tr>\n",
       "    <tr>\n",
       "      <th>2018-01-19</th>\n",
       "      <td>228.090</td>\n",
       "      <td>230.11</td>\n",
       "      <td>231.09</td>\n",
       "      <td>15935244</td>\n",
       "      <td>0.025263</td>\n",
       "    </tr>\n",
       "    <tr>\n",
       "      <th>2018-01-22</th>\n",
       "      <td>230.430</td>\n",
       "      <td>233.69</td>\n",
       "      <td>233.76</td>\n",
       "      <td>14260753</td>\n",
       "      <td>0.015558</td>\n",
       "    </tr>\n",
       "    <tr>\n",
       "      <th>...</th>\n",
       "      <td>...</td>\n",
       "      <td>...</td>\n",
       "      <td>...</td>\n",
       "      <td>...</td>\n",
       "      <td>...</td>\n",
       "    </tr>\n",
       "    <tr>\n",
       "      <th>2024-03-08</th>\n",
       "      <td>951.379</td>\n",
       "      <td>875.28</td>\n",
       "      <td>974.00</td>\n",
       "      <td>113705642</td>\n",
       "      <td>-0.055477</td>\n",
       "    </tr>\n",
       "    <tr>\n",
       "      <th>2024-03-11</th>\n",
       "      <td>864.290</td>\n",
       "      <td>857.74</td>\n",
       "      <td>887.97</td>\n",
       "      <td>67836412</td>\n",
       "      <td>-0.020039</td>\n",
       "    </tr>\n",
       "    <tr>\n",
       "      <th>2024-03-12</th>\n",
       "      <td>880.490</td>\n",
       "      <td>919.13</td>\n",
       "      <td>919.60</td>\n",
       "      <td>66807515</td>\n",
       "      <td>0.071572</td>\n",
       "    </tr>\n",
       "    <tr>\n",
       "      <th>2024-03-13</th>\n",
       "      <td>910.550</td>\n",
       "      <td>908.88</td>\n",
       "      <td>915.04</td>\n",
       "      <td>63571289</td>\n",
       "      <td>-0.011152</td>\n",
       "    </tr>\n",
       "    <tr>\n",
       "      <th>2024-03-14</th>\n",
       "      <td>895.770</td>\n",
       "      <td>879.44</td>\n",
       "      <td>906.46</td>\n",
       "      <td>60231816</td>\n",
       "      <td>-0.032392</td>\n",
       "    </tr>\n",
       "  </tbody>\n",
       "</table>\n",
       "<p>1551 rows × 5 columns</p>\n",
       "</div>"
      ],
      "text/plain": [
       "               NVDA                            Daily Returns\n",
       "               open   close    high     volume              \n",
       "timestamp                                                   \n",
       "2018-01-16  224.050  220.11  227.51   17986928     -0.011892\n",
       "2018-01-17  220.700  224.72  225.12   13942387      0.020944\n",
       "2018-01-18  223.940  224.44  226.64   10756754     -0.001246\n",
       "2018-01-19  228.090  230.11  231.09   15935244      0.025263\n",
       "2018-01-22  230.430  233.69  233.76   14260753      0.015558\n",
       "...             ...     ...     ...        ...           ...\n",
       "2024-03-08  951.379  875.28  974.00  113705642     -0.055477\n",
       "2024-03-11  864.290  857.74  887.97   67836412     -0.020039\n",
       "2024-03-12  880.490  919.13  919.60   66807515      0.071572\n",
       "2024-03-13  910.550  908.88  915.04   63571289     -0.011152\n",
       "2024-03-14  895.770  879.44  906.46   60231816     -0.032392\n",
       "\n",
       "[1551 rows x 5 columns]"
      ]
     },
     "execution_count": 9,
     "metadata": {},
     "output_type": "execute_result"
    }
   ],
   "source": [
    "# data cleaning\n",
    "stock_df = stock_data #.rename(columns={'NVDA': 'NVDA close'})\n",
    "stock_df['Daily Returns'] = stock_df['NVDA']['close'].pct_change()\n",
    "stock_df = stock_df.dropna()\n",
    "stock_df"
   ]
  },
  {
   "cell_type": "markdown",
   "id": "8602c5a7-8885-4e99-baae-1e0302f969c3",
   "metadata": {},
   "source": [
    "#### Feauture Engineering - Time series Analysis"
   ]
  },
  {
   "cell_type": "code",
   "execution_count": 10,
   "id": "42ca8159-340c-4f9e-91a8-f8ccf8651ef1",
   "metadata": {
    "tags": []
   },
   "outputs": [],
   "source": [
    "stock_df['Cumulative Returns'] = (1 + stock_df['Daily Returns']).cumprod()"
   ]
  },
  {
   "cell_type": "code",
   "execution_count": 11,
   "id": "3e112592-40ff-4ef2-a240-33ade1414e66",
   "metadata": {
    "tags": []
   },
   "outputs": [],
   "source": [
    "stock_df['Daily Returns Lagged'] = stock_df['Daily Returns'].shift(-1)"
   ]
  },
  {
   "cell_type": "code",
   "execution_count": 13,
   "id": "9321a2dc-48e0-40d6-86a4-8ec1c55b634a",
   "metadata": {
    "tags": []
   },
   "outputs": [
    {
     "data": {
      "text/html": [
       "<div>\n",
       "<style scoped>\n",
       "    .dataframe tbody tr th:only-of-type {\n",
       "        vertical-align: middle;\n",
       "    }\n",
       "\n",
       "    .dataframe tbody tr th {\n",
       "        vertical-align: top;\n",
       "    }\n",
       "\n",
       "    .dataframe thead tr th {\n",
       "        text-align: left;\n",
       "    }\n",
       "\n",
       "    .dataframe thead tr:last-of-type th {\n",
       "        text-align: right;\n",
       "    }\n",
       "</style>\n",
       "<table border=\"1\" class=\"dataframe\">\n",
       "  <thead>\n",
       "    <tr>\n",
       "      <th></th>\n",
       "      <th colspan=\"4\" halign=\"left\">NVDA</th>\n",
       "      <th>Daily Returns</th>\n",
       "      <th>Cumulative Returns</th>\n",
       "      <th>Daily Returns Lagged</th>\n",
       "      <th>SMA_Fast</th>\n",
       "      <th>SMA_Slow</th>\n",
       "    </tr>\n",
       "    <tr>\n",
       "      <th></th>\n",
       "      <th>open</th>\n",
       "      <th>close</th>\n",
       "      <th>high</th>\n",
       "      <th>volume</th>\n",
       "      <th></th>\n",
       "      <th></th>\n",
       "      <th></th>\n",
       "      <th></th>\n",
       "      <th></th>\n",
       "    </tr>\n",
       "    <tr>\n",
       "      <th>timestamp</th>\n",
       "      <th></th>\n",
       "      <th></th>\n",
       "      <th></th>\n",
       "      <th></th>\n",
       "      <th></th>\n",
       "      <th></th>\n",
       "      <th></th>\n",
       "      <th></th>\n",
       "      <th></th>\n",
       "    </tr>\n",
       "  </thead>\n",
       "  <tbody>\n",
       "    <tr>\n",
       "      <th>2018-06-07</th>\n",
       "      <td>265.000</td>\n",
       "      <td>262.90</td>\n",
       "      <td>265.4785</td>\n",
       "      <td>9818162</td>\n",
       "      <td>-0.008486</td>\n",
       "      <td>1.180199</td>\n",
       "      <td>-0.002358</td>\n",
       "      <td>263.118</td>\n",
       "      <td>238.5978</td>\n",
       "    </tr>\n",
       "    <tr>\n",
       "      <th>2018-06-08</th>\n",
       "      <td>259.960</td>\n",
       "      <td>262.28</td>\n",
       "      <td>264.0000</td>\n",
       "      <td>9772067</td>\n",
       "      <td>-0.002358</td>\n",
       "      <td>1.177416</td>\n",
       "      <td>-0.006329</td>\n",
       "      <td>264.050</td>\n",
       "      <td>239.0195</td>\n",
       "    </tr>\n",
       "    <tr>\n",
       "      <th>2018-06-11</th>\n",
       "      <td>261.770</td>\n",
       "      <td>260.62</td>\n",
       "      <td>263.4500</td>\n",
       "      <td>7128668</td>\n",
       "      <td>-0.006329</td>\n",
       "      <td>1.169964</td>\n",
       "      <td>0.007521</td>\n",
       "      <td>263.204</td>\n",
       "      <td>239.3785</td>\n",
       "    </tr>\n",
       "    <tr>\n",
       "      <th>2018-06-12</th>\n",
       "      <td>261.690</td>\n",
       "      <td>262.58</td>\n",
       "      <td>263.0700</td>\n",
       "      <td>8509752</td>\n",
       "      <td>0.007521</td>\n",
       "      <td>1.178763</td>\n",
       "      <td>-0.000686</td>\n",
       "      <td>262.706</td>\n",
       "      <td>239.7599</td>\n",
       "    </tr>\n",
       "    <tr>\n",
       "      <th>2018-06-13</th>\n",
       "      <td>262.640</td>\n",
       "      <td>262.40</td>\n",
       "      <td>265.6700</td>\n",
       "      <td>8951757</td>\n",
       "      <td>-0.000686</td>\n",
       "      <td>1.177955</td>\n",
       "      <td>0.017188</td>\n",
       "      <td>262.156</td>\n",
       "      <td>240.0828</td>\n",
       "    </tr>\n",
       "    <tr>\n",
       "      <th>...</th>\n",
       "      <td>...</td>\n",
       "      <td>...</td>\n",
       "      <td>...</td>\n",
       "      <td>...</td>\n",
       "      <td>...</td>\n",
       "      <td>...</td>\n",
       "      <td>...</td>\n",
       "      <td>...</td>\n",
       "      <td>...</td>\n",
       "    </tr>\n",
       "    <tr>\n",
       "      <th>2024-03-07</th>\n",
       "      <td>901.580</td>\n",
       "      <td>926.69</td>\n",
       "      <td>927.6700</td>\n",
       "      <td>60811916</td>\n",
       "      <td>0.044746</td>\n",
       "      <td>4.160056</td>\n",
       "      <td>-0.055477</td>\n",
       "      <td>869.698</td>\n",
       "      <td>557.9234</td>\n",
       "    </tr>\n",
       "    <tr>\n",
       "      <th>2024-03-08</th>\n",
       "      <td>951.379</td>\n",
       "      <td>875.28</td>\n",
       "      <td>974.0000</td>\n",
       "      <td>113705642</td>\n",
       "      <td>-0.055477</td>\n",
       "      <td>3.929269</td>\n",
       "      <td>-0.020039</td>\n",
       "      <td>880.196</td>\n",
       "      <td>562.1301</td>\n",
       "    </tr>\n",
       "    <tr>\n",
       "      <th>2024-03-11</th>\n",
       "      <td>864.290</td>\n",
       "      <td>857.74</td>\n",
       "      <td>887.9700</td>\n",
       "      <td>67836412</td>\n",
       "      <td>-0.020039</td>\n",
       "      <td>3.850529</td>\n",
       "      <td>0.071572</td>\n",
       "      <td>881.270</td>\n",
       "      <td>566.0980</td>\n",
       "    </tr>\n",
       "    <tr>\n",
       "      <th>2024-03-12</th>\n",
       "      <td>880.490</td>\n",
       "      <td>919.13</td>\n",
       "      <td>919.6000</td>\n",
       "      <td>66807515</td>\n",
       "      <td>0.071572</td>\n",
       "      <td>4.126118</td>\n",
       "      <td>-0.011152</td>\n",
       "      <td>893.168</td>\n",
       "      <td>570.8955</td>\n",
       "    </tr>\n",
       "    <tr>\n",
       "      <th>2024-03-13</th>\n",
       "      <td>910.550</td>\n",
       "      <td>908.88</td>\n",
       "      <td>915.0400</td>\n",
       "      <td>63571289</td>\n",
       "      <td>-0.011152</td>\n",
       "      <td>4.080105</td>\n",
       "      <td>-0.032392</td>\n",
       "      <td>897.544</td>\n",
       "      <td>575.7647</td>\n",
       "    </tr>\n",
       "  </tbody>\n",
       "</table>\n",
       "<p>1451 rows × 9 columns</p>\n",
       "</div>"
      ],
      "text/plain": [
       "               NVDA                              Daily Returns  \\\n",
       "               open   close      high     volume                 \n",
       "timestamp                                                        \n",
       "2018-06-07  265.000  262.90  265.4785    9818162     -0.008486   \n",
       "2018-06-08  259.960  262.28  264.0000    9772067     -0.002358   \n",
       "2018-06-11  261.770  260.62  263.4500    7128668     -0.006329   \n",
       "2018-06-12  261.690  262.58  263.0700    8509752      0.007521   \n",
       "2018-06-13  262.640  262.40  265.6700    8951757     -0.000686   \n",
       "...             ...     ...       ...        ...           ...   \n",
       "2024-03-07  901.580  926.69  927.6700   60811916      0.044746   \n",
       "2024-03-08  951.379  875.28  974.0000  113705642     -0.055477   \n",
       "2024-03-11  864.290  857.74  887.9700   67836412     -0.020039   \n",
       "2024-03-12  880.490  919.13  919.6000   66807515      0.071572   \n",
       "2024-03-13  910.550  908.88  915.0400   63571289     -0.011152   \n",
       "\n",
       "           Cumulative Returns Daily Returns Lagged SMA_Fast  SMA_Slow  \n",
       "                                                                       \n",
       "timestamp                                                              \n",
       "2018-06-07           1.180199            -0.002358  263.118  238.5978  \n",
       "2018-06-08           1.177416            -0.006329  264.050  239.0195  \n",
       "2018-06-11           1.169964             0.007521  263.204  239.3785  \n",
       "2018-06-12           1.178763            -0.000686  262.706  239.7599  \n",
       "2018-06-13           1.177955             0.017188  262.156  240.0828  \n",
       "...                       ...                  ...      ...       ...  \n",
       "2024-03-07           4.160056            -0.055477  869.698  557.9234  \n",
       "2024-03-08           3.929269            -0.020039  880.196  562.1301  \n",
       "2024-03-11           3.850529             0.071572  881.270  566.0980  \n",
       "2024-03-12           4.126118            -0.011152  893.168  570.8955  \n",
       "2024-03-13           4.080105            -0.032392  897.544  575.7647  \n",
       "\n",
       "[1451 rows x 9 columns]"
      ]
     },
     "execution_count": 13,
     "metadata": {},
     "output_type": "execute_result"
    }
   ],
   "source": [
    "# set window sizes based on strategy\n",
    "short_window = 5\n",
    "long_window = 100\n",
    "\n",
    "stock_df['SMA_Fast'] = stock_df['NVDA']['close'].rolling(window=short_window).mean()\n",
    "stock_df['SMA_Slow'] = stock_df['NVDA']['close'].rolling(window=long_window).mean()\n",
    "\n",
    "stock_df = stock_df.dropna()\n",
    "stock_df\n",
    "\n",
    "# later on -> trial different training windows using DateOffset()"
   ]
  },
  {
   "cell_type": "markdown",
   "id": "8955ed4c-da46-4ab8-bf3f-8326706301a6",
   "metadata": {},
   "source": [
    "### Algo trading strategies (Simple winning and Hybrid trading) returns buy or sell signal"
   ]
  },
  {
   "cell_type": "code",
   "execution_count": 14,
   "id": "75caddf9-4c0e-4864-b45a-c5a2c3825c87",
   "metadata": {
    "tags": []
   },
   "outputs": [],
   "source": [
    "# Initialize Signals \n",
    "signals = {\"signal_one\": strategy.strategy_one(stock_data),\n",
    "           \"signal_two\": strategy.strategy_two(stock_data),\n",
    "           \"signal_three\": strategy.strategy_three(stock_data),\n",
    "           \"signal_four\": strategy.strategy_four(stock_data),\n",
    "           \"signal_five\": strategy.strategy_five(stock_data)}\n",
    "\n",
    "# Initialize a simple winnig trading strategy \n",
    "def simple_winning_strategies(stock_data):\n",
    "    \n",
    "    best_strategy = max(signals,key=signals.get)\n",
    "    winning_signal = signals[best_strategy]\n",
    "        \n",
    "    return winning_signal\n",
    "    \n",
    "# Initialize a strategy that uses historical stock data and returns a hybrid trading strategy (Majority vote)   \n",
    "def hybrid_strategies(Stock_data):\n",
    "    \n",
    "    buy_signal = sum(1 for signal in signals.values() if signal == 1)    # \"Buy\"\n",
    "    sell_signal = sum(1 for signal in signals.values() if signal == -1)  # \"Sell\"\n",
    "    \n",
    "    hybrid_signal = 0 # \"Hold\"\n",
    "    \n",
    "    if buy_signal > sell_signal:\n",
    "        hybrid_signal = 1 # \"Buy\"\n",
    "    elif sell_signal > buy_signal:\n",
    "        hybrid_signal = -1 # \"Sell\"  \n",
    "        \n",
    "    return hybrid_signal\n",
    "\n",
    "# Add signals to stock_df\n",
    "stock_df['Hybrid_signal'] = hybrid_strategies(stock_data)\n",
    "\n",
    "stock_df['Winning_signal'] = simple_winning_strategies(stock_data)\n",
    "\n",
    "# plot winnig signal and hybrid"
   ]
  },
  {
   "cell_type": "markdown",
   "id": "e68277bd-9711-49eb-971d-0ae724e08337",
   "metadata": {},
   "source": [
    "### Machine Learning (LSTM ) + other model logreg or SVM - Logic that compares which model "
   ]
  },
  {
   "cell_type": "code",
   "execution_count": null,
   "id": "203e40da-0a79-4856-abb8-6e94ea17fc9e",
   "metadata": {},
   "outputs": [],
   "source": []
  },
  {
   "cell_type": "markdown",
   "id": "58d8e77d-ec8b-40fd-b635-d171d51d3a1e",
   "metadata": {},
   "source": [
    "### Backtesting - Model and strategy tuning logic to increased Returns"
   ]
  },
  {
   "cell_type": "code",
   "execution_count": null,
   "id": "feaa2327-7b71-4a48-add0-a46e35d530f8",
   "metadata": {},
   "outputs": [],
   "source": []
  },
  {
   "cell_type": "markdown",
   "id": "6a57c93c-3257-45bd-ba0a-be7eae065da7",
   "metadata": {},
   "source": [
    "### Risk management and Rewards"
   ]
  },
  {
   "cell_type": "code",
   "execution_count": null,
   "id": "5d56b6cc-3d36-4d96-b37b-a81bfbb3aa6b",
   "metadata": {
    "tags": []
   },
   "outputs": [],
   "source": []
  },
  {
   "cell_type": "markdown",
   "id": "140285e9-7535-41d8-9ed2-623347072f1c",
   "metadata": {},
   "source": [
    "### Fundamental Analysis (Predictions and Plotting)"
   ]
  },
  {
   "cell_type": "code",
   "execution_count": 12,
   "id": "08fb3f5a-97a1-4f45-aab7-ab25459cbb4c",
   "metadata": {
    "tags": []
   },
   "outputs": [
    {
     "data": {
      "text/html": [
       "<div>\n",
       "<style scoped>\n",
       "    .dataframe tbody tr th:only-of-type {\n",
       "        vertical-align: middle;\n",
       "    }\n",
       "\n",
       "    .dataframe tbody tr th {\n",
       "        vertical-align: top;\n",
       "    }\n",
       "\n",
       "    .dataframe thead tr th {\n",
       "        text-align: left;\n",
       "    }\n",
       "</style>\n",
       "<table border=\"1\" class=\"dataframe\">\n",
       "  <thead>\n",
       "    <tr>\n",
       "      <th></th>\n",
       "      <th></th>\n",
       "      <th>Daily Returns Lagged</th>\n",
       "      <th>Daily Returns</th>\n",
       "    </tr>\n",
       "    <tr>\n",
       "      <th></th>\n",
       "      <th></th>\n",
       "      <th></th>\n",
       "      <th></th>\n",
       "    </tr>\n",
       "  </thead>\n",
       "  <tbody>\n",
       "    <tr>\n",
       "      <th>Daily Returns Lagged</th>\n",
       "      <th></th>\n",
       "      <td>1.000000</td>\n",
       "      <td>-0.080654</td>\n",
       "    </tr>\n",
       "    <tr>\n",
       "      <th>Daily Returns</th>\n",
       "      <th></th>\n",
       "      <td>-0.080654</td>\n",
       "      <td>1.000000</td>\n",
       "    </tr>\n",
       "  </tbody>\n",
       "</table>\n",
       "</div>"
      ],
      "text/plain": [
       "                      Daily Returns Lagged Daily Returns\n",
       "                                                        \n",
       "Daily Returns Lagged              1.000000     -0.080654\n",
       "Daily Returns                    -0.080654      1.000000"
      ]
     },
     "execution_count": 12,
     "metadata": {},
     "output_type": "execute_result"
    }
   ],
   "source": [
    "stock_df[['Daily Returns Lagged', 'Daily Returns']].corr()\n",
    "\n",
    "# maybe not to use lagged strategy \n",
    "# consider DMAC? "
   ]
  },
  {
   "cell_type": "code",
   "execution_count": 15,
   "id": "5d79dfdb-654c-44ce-87be-451ffd7d601a",
   "metadata": {
    "tags": []
   },
   "outputs": [
    {
     "data": {
      "text/plain": [
       "<Axes: xlabel='timestamp'>"
      ]
     },
     "execution_count": 15,
     "metadata": {},
     "output_type": "execute_result"
    },
    {
     "data": {
      "image/png": "[encoded data removed]",
      "text/plain": [
       "<Figure size 640x480 with 1 Axes>"
      ]
     },
     "metadata": {},
     "output_type": "display_data"
    }
   ],
   "source": [
    "stock_df['Cumulative Returns'].plot()"
   ]
  },
  {
   "cell_type": "code",
   "execution_count": null,
   "id": "b561ed48-47ca-4d1c-b585-47f0a9fe195f",
   "metadata": {},
   "outputs": [],
   "source": []
  },
  {
   "cell_type": "markdown",
   "id": "6b3240dd-b5cd-4adb-a5cb-8bf9780b2cf9",
   "metadata": {},
   "source": [
    "### Logic to place trade (Optional)"
   ]
  },
  {
   "cell_type": "code",
   "execution_count": null,
   "id": "875a1a9c-1a13-497a-90ef-fc3027fd643c",
   "metadata": {},
   "outputs": [],
   "source": [
    "# From Algo Trading 3 live \n",
    "\n",
    "# Submit order\n",
    "api.submit_order(\n",
    "    symbol=\"META\", \n",
    "    qty=number_of_shares, \n",
    "    side=orderSide, \n",
    "    time_in_force=\"gtc\", \n",
    "    type=\"limit\", \n",
    "    limit_price=limit_amount\n"
   ]
  }
 ],
 "metadata": {
  "kernelspec": {
   "display_name": "Python 3 (ipykernel)",
   "language": "python",
   "name": "python3"
  },
  "language_info": {
   "codemirror_mode": {
    "name": "ipython",
    "version": 3
   },
   "file_extension": ".py",
   "mimetype": "text/x-python",
   "name": "python",
   "nbconvert_exporter": "python",
   "pygments_lexer": "ipython3",
   "version": "3.10.13"
  }
 },
 "nbformat": 4,
 "nbformat_minor": 5
}
